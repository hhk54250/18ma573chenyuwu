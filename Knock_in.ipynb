{
  "nbformat": 4,
  "nbformat_minor": 0,
  "metadata": {
    "colab": {
      "name": "Knock_in.ipynb",
      "version": "0.3.2",
      "provenance": [],
      "collapsed_sections": [],
      "include_colab_link": true
    },
    "kernelspec": {
      "name": "python3",
      "display_name": "Python 3"
    }
  },
  "cells": [
    {
      "cell_type": "markdown",
      "metadata": {
        "id": "view-in-github",
        "colab_type": "text"
      },
      "source": [
        "<a href=\"https://colab.research.google.com/github/wuchenyu38/18ma573chenyuwu/blob/master/Knock_in.ipynb\" target=\"_parent\"><img src=\"https://colab.research.google.com/assets/colab-badge.svg\" alt=\"Open In Colab\"/></a>"
      ]
    },
    {
      "metadata": {
        "id": "ayLzqUCG0XIK",
        "colab_type": "text"
      },
      "cell_type": "markdown",
      "source": [
        "$$\n",
        "F(s)=1000*I(S_T>K)*I(min_{1\\le k \\le m}S(t_K)<H)\n",
        "$$"
      ]
    },
    {
      "metadata": {
        "id": "gmi95U8y0zOL",
        "colab_type": "code",
        "outputId": "57b25f0b-46b3-46da-a440-7efea3b19b76",
        "colab": {
          "base_uri": "https://localhost:8080/",
          "height": 34
        }
      },
      "cell_type": "code",
      "source": [
        "!git clone https://github.com/wuchenyu38/18ma573chenyuwu.git"
      ],
      "execution_count": 0,
      "outputs": [
        {
          "output_type": "stream",
          "text": [
            "fatal: destination path '18ma573chenyuwu' already exists and is not an empty directory.\n"
          ],
          "name": "stdout"
        }
      ]
    },
    {
      "metadata": {
        "id": "TsLkjeye04AL",
        "colab_type": "code",
        "outputId": "7b17cdb4-8d69-476a-c164-c4a37f6964ca",
        "colab": {
          "base_uri": "https://localhost:8080/",
          "height": 34
        }
      },
      "cell_type": "code",
      "source": [
        "cd 18ma573chenyuwu/src"
      ],
      "execution_count": 0,
      "outputs": [
        {
          "output_type": "stream",
          "text": [
            "/content/18ma573chenyuwu/src\n"
          ],
          "name": "stdout"
        }
      ]
    },
    {
      "metadata": {
        "id": "7LTxa8Y01AmS",
        "colab_type": "code",
        "colab": {}
      },
      "cell_type": "code",
      "source": [
        "r=0.05;sigma=0.15;s0=95;T=0.25;m=50;H=85;K=96;k=1000;n=1000; #"
      ],
      "execution_count": 0,
      "outputs": []
    },
    {
      "metadata": {
        "id": "43pgvQZS0Ltx",
        "colab_type": "code",
        "colab": {}
      },
      "cell_type": "code",
      "source": [
        "import numpy as np\n",
        "import matplotlib.pyplot as plt\n",
        "import BSM as bs"
      ],
      "execution_count": 0,
      "outputs": []
    },
    {
      "metadata": {
        "id": "9dDqAh6O07nW",
        "colab_type": "code",
        "colab": {}
      },
      "cell_type": "code",
      "source": [
        "def knock_In(r,sigma,s0,T,H,K,k,m,n):\n",
        "  F=[]\n",
        "  F_payoff=[]\n",
        "  for i in range(m):\n",
        "    t,W=bs.BM_gen(0.,T,num_steps)\n",
        "    S_list=s0*np.exp((r-(1/2)*sigma**2)*t+sigma*W)\n",
        "    F.append(k*(S_list[-1]>K)*(min(S_list)<H))\n",
        "  F_payoff=np.exp(-r*T)*np.mean(F)\n",
        "  return F_payoff"
      ],
      "execution_count": 0,
      "outputs": []
    },
    {
      "metadata": {
        "id": "1TMgDvkM0-Ck",
        "colab_type": "code",
        "colab": {}
      },
      "cell_type": "code",
      "source": [
        "#k times trials test get the mean of payoffs\n",
        "for i in range(k):\n",
        "  F_payoff_List=knock_In(r,sigma,s0, T,H,K,k,m,n)\n",
        "  \n",
        "F_payoff_mean = np.mean(F_payoff_List)"
      ],
      "execution_count": 0,
      "outputs": []
    },
    {
      "metadata": {
        "id": "zw5NKb0PQRni",
        "colab_type": "code",
        "colab": {}
      },
      "cell_type": "code",
      "source": [
        "Var=np.var(F_payoff_List) #Equal to MSE here."
      ],
      "execution_count": 0,
      "outputs": []
    },
    {
      "metadata": {
        "id": "6lSbsrUD31e6",
        "colab_type": "code",
        "outputId": "b8f3f4ea-3da5-442d-dacb-57c31df6daa5",
        "colab": {
          "base_uri": "https://localhost:8080/",
          "height": 54
        }
      },
      "cell_type": "code",
      "source": [
        "print('mean='+str(F_payoff_mean)+', MSE='+str(Var)+', 95% confidence interval=',[F_payoff_mean-1.96*np.sqrt(Var),F_payoff_mean+1.96*np.sqrt(Var)])"
      ],
      "execution_count": 0,
      "outputs": [
        {
          "output_type": "stream",
          "text": [
            "mean=59.25466802963289, MSE=0.0, 95% confidence interval= [59.25466802963289, 59.25466802963289]\n"
          ],
          "name": "stdout"
        }
      ]
    },
    {
      "metadata": {
        "id": "R1SPnd78XKKn",
        "colab_type": "text"
      },
      "cell_type": "markdown",
      "source": [
        "Comment: Value of mean changes, and MSE(Variance) sometimes goes to zero"
      ]
    }
  ]
}