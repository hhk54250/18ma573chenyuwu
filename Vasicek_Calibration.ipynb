{
  "nbformat": 4,
  "nbformat_minor": 0,
  "metadata": {
    "colab": {
      "name": "Vasicek_Calibration.ipynb",
      "version": "0.3.2",
      "provenance": [],
      "collapsed_sections": [],
      "include_colab_link": true
    },
    "kernelspec": {
      "name": "python3",
      "display_name": "Python 3"
    }
  },
  "cells": [
    {
      "cell_type": "markdown",
      "metadata": {
        "id": "view-in-github",
        "colab_type": "text"
      },
      "source": [
        "<a href=\"https://colab.research.google.com/github/wuchenyu38/18ma573chenyuwu/blob/master/Vasicek_Calibration.ipynb\" target=\"_parent\"><img src=\"https://colab.research.google.com/assets/colab-badge.svg\" alt=\"Open In Colab\"/></a>"
      ]
    },
    {
      "metadata": {
        "id": "gBcITSUkvRvh",
        "colab_type": "text"
      },
      "cell_type": "markdown",
      "source": [
        "Vasicek model verification:\n",
        "$$\n",
        "dr_t=\\kappa(\\mu-r_t)dt+\\sigma dW_t\n",
        "\\\\\n",
        "dr_t+r_tdt=\\kappa\\mu dt+\\sigma dW_t\n",
        "\\\\\n",
        "e^{kt}-r_0=\\mu (e^{kt}-1)+\\int_0^t e^{ks}dW_s\n",
        "\\\\\n",
        "r_t=r_0e^{-\\kappa t}+\\mu(1-e^{-\\kappa t})+\\sigma e^{-\\kappa t}\\int_0^t e^{\\kappa S}dW_s\n",
        "$$"
      ]
    },
    {
      "metadata": {
        "id": "mGlBKO8sXc2s",
        "colab_type": "code",
        "colab": {}
      },
      "cell_type": "code",
      "source": [
        "import numpy as np\n",
        "import scipy.stats as ss\n",
        "import scipy.optimize as so\n",
        "import matplotlib.pyplot as plt"
      ],
      "execution_count": 0,
      "outputs": []
    },
    {
      "metadata": {
        "id": "EOSnBF3dzwnj",
        "colab_type": "code",
        "colab": {}
      },
      "cell_type": "code",
      "source": [
        "def price(T, kappa, sigma, mu, r0):\n",
        "  B = (1 - np.exp(-kappa *(T-0)))/kappa\n",
        "  A = (mu-sigma**2/(2*kappa**2))*(B-(T-0))-(sigma**2/(4*kappa))*B**2\n",
        "  return np.exp(A-B*r0)"
      ],
      "execution_count": 0,
      "outputs": []
    },
    {
      "metadata": {
        "id": "gTIYIT030l6Z",
        "colab_type": "code",
        "colab": {}
      },
      "cell_type": "code",
      "source": [
        "def sample(T, kappa, sigma, mu, r0, num_path):\n",
        "  mu_r = (mu*T) + ((r0 - mu)*(1-np.exp(-1*kappa*T))/kappa)\n",
        "  var_r = ((sigma**2)/(2*(kappa**3)))*((2*kappa*T) - 3 + (4*np.exp(-1*kappa*T)) - np.exp(-2*kappa*T))\n",
        "  r = np.random.normal(mu_r,var_r,num_path)\n",
        "  r_output = np.exp(-1 * r)\n",
        "  return r_output.mean()"
      ],
      "execution_count": 0,
      "outputs": []
    },
    {
      "metadata": {
        "id": "w4ITvkcd1HJd",
        "colab_type": "code",
        "colab": {}
      },
      "cell_type": "code",
      "source": [
        "theta = [0.1, 0.05, 0.003, 0.03]\n",
        "kappa, mu, sigma, r0 = theta\n",
        "num_path=100"
      ],
      "execution_count": 0,
      "outputs": []
    },
    {
      "metadata": {
        "id": "YzCSgTeM1SWP",
        "colab_type": "code",
        "outputId": "468c04d3-398d-4eff-9930-b954c02a0df8",
        "colab": {
          "base_uri": "https://localhost:8080/",
          "height": 51
        }
      },
      "cell_type": "code",
      "source": [
        "fp = price(1,kappa,sigma,mu,r0)\n",
        "sp = sample(1,kappa,sigma,mu,r0,num_path)\n",
        "\n",
        "print(\"ZCB P(0,1) price by ZCB formula is \" + str(fp))\n",
        "print(\"ZCB P(0,1) price by exact sampling is \" + str(sp))"
      ],
      "execution_count": 0,
      "outputs": [
        {
          "output_type": "stream",
          "text": [
            "ZCB P(0,1) price by ZCB formula is 0.9695084475425054\n",
            "ZCB P(0,1) price by exact sampling is 0.9695061741431313\n"
          ],
          "name": "stdout"
        }
      ]
    },
    {
      "metadata": {
        "id": "iKJy3pbt1xME",
        "colab_type": "code",
        "colab": {}
      },
      "cell_type": "code",
      "source": [
        "def Libor(T, P):\n",
        "  lib=(100/T)*((1/P)-1)\n",
        "  return lib"
      ],
      "execution_count": 0,
      "outputs": []
    },
    {
      "metadata": {
        "id": "KjDv3Rc12HZ9",
        "colab_type": "code",
        "outputId": "24589598-eb10-4546-ab12-e44751e1079a",
        "colab": {
          "base_uri": "https://localhost:8080/",
          "height": 51
        }
      },
      "cell_type": "code",
      "source": [
        "print(\"LIBOR L(0,1) price using ZCB formula price is \" + str(Libor(1,fp)))\n",
        "print(\"LIBOR L(0,1) price using ZCB sample price is \" + str(Libor(1,sp)))"
      ],
      "execution_count": 0,
      "outputs": [
        {
          "output_type": "stream",
          "text": [
            "LIBOR L(0,1) price using ZCB formula price is 3.145052787810565\n",
            "LIBOR L(0,1) price using ZCB sample price is 3.1452946531072667\n"
          ],
          "name": "stdout"
        }
      ]
    },
    {
      "metadata": {
        "id": "7_d3qUVE2PVC",
        "colab_type": "code",
        "colab": {}
      },
      "cell_type": "code",
      "source": [
        "def swap_formula(T,N,kappa,sigma,mu,r0):\n",
        "  delta=T/N\n",
        "  fs=np.zeros(N)\n",
        "  for i in range(N):\n",
        "    fs[i] = price(T,kappa, sigma,mu,r0)\n",
        "  \n",
        "  result=100*(1-fs[N-1])/(delta*sum(fs))\n",
        "  return result"
      ],
      "execution_count": 0,
      "outputs": []
    },
    {
      "metadata": {
        "id": "3X177iDQ3BIC",
        "colab_type": "code",
        "colab": {}
      },
      "cell_type": "code",
      "source": [
        "def swap_sample(T,N,kappa,sigma,mu,r0,num_path):\n",
        "  delta=T/N\n",
        "  ss=np.zeros(N)\n",
        "  for i in range(N):\n",
        "    ss[i] = sample(T, kappa, sigma, mu, r0, num_path)\n",
        "  \n",
        "  result=100*(1-ss[N-1])/(delta*sum(ss))\n",
        "  return result"
      ],
      "execution_count": 0,
      "outputs": []
    },
    {
      "metadata": {
        "id": "Lx2gXP7c44Ni",
        "colab_type": "code",
        "outputId": "7cfcd289-89da-4f44-c7d0-c2fd74c4ead0",
        "colab": {
          "base_uri": "https://localhost:8080/",
          "height": 71
        }
      },
      "cell_type": "code",
      "source": [
        "s_explicit = swap_formula(5,10,kappa,sigma,mu,r0)\n",
        "s_sample = swap_sample(5,10,kappa,sigma,mu,r0,num_path)\n",
        "\n",
        "print(\"10-term swap rate with term length 1/2 year using the formula is \" + str(s_explicit))\n",
        "print(\"10-term swap rate with term length 1/2 year using exact sampling is \" + str(s_sample))\n"
      ],
      "execution_count": 0,
      "outputs": [
        {
          "output_type": "stream",
          "text": [
            "10-term swap rate with term length 1/2 year using the formula is 3.733970072840246\n",
            "10-term swap rate with term length 1/2 year using exact sampling is 3.7371949855118567\n"
          ],
          "name": "stdout"
        }
      ]
    },
    {
      "metadata": {
        "id": "qN9bfep45CS_",
        "colab_type": "code",
        "colab": {}
      },
      "cell_type": "code",
      "source": [
        "import pandas as pd\n",
        "dfLiborRate = pd.DataFrame({'maturity (months)': [1, 2, 3, 6, 12],\n",
        "                           '20081029 rate(%)': [3.1175, 3.2738, 3.4200, 3.4275, 3.4213],\n",
        "                           '20110214 rate(%)': [0.2647, 0.2890, 0.3140, 0.4657, 0.7975]\n",
        "                           })\n",
        "\n",
        "libor_2008_10_29 = [3.1175, 3.2738, 3.4200, 3.4275, 3.4213];\n",
        "libor_2011_02_14 = [0.2647, 0.2890, 0.3140, 0.4657, 0.7975];\n",
        "libor_maturities = [1/12, 2/12, 3/12, 6/12, 12/12]"
      ],
      "execution_count": 0,
      "outputs": []
    },
    {
      "metadata": {
        "id": "xJw1TF0uK3Ep",
        "colab_type": "code",
        "colab": {}
      },
      "cell_type": "code",
      "source": [
        "def vasicek_libor_error_function(theta, market_rates, maturities):\n",
        "  err1 = 0\n",
        "  kappa, mu, sigma, r0 = theta\n",
        "  \n",
        "  for i in np.arange(len(market_rates)):\n",
        "    P = price(maturities[i],kappa,mu,sigma,r0)\n",
        "    \n",
        "    calc_libor =Libor(maturities[i],P)\n",
        "    \n",
        "    err1 = err1 + ((calc_libor - market_rates[i])/market_rates[i])**2\n",
        "  return err1\n",
        "\n",
        "def libor_calibration(libor_rates,maturities):\n",
        "  # Supply initial guess. Use theta array from assignment as baseline.\n",
        "  init_theta = np.array([0.1, 0.05, 0.003, 0.03])\n",
        "  init_kappa, init_mu, init_sigma, init_r0 = init_theta\n",
        "  return so.fmin(vasicek_libor_error_function, init_theta, args = (libor_rates, maturities), disp = 0)"
      ],
      "execution_count": 0,
      "outputs": []
    },
    {
      "metadata": {
        "id": "WRzUUXEILOGk",
        "colab_type": "code",
        "outputId": "300bd654-eab7-4b19-b6de-afc230b6297e",
        "colab": {
          "base_uri": "https://localhost:8080/",
          "height": 85
        }
      },
      "cell_type": "code",
      "source": [
        "calibrated_theta = libor_calibration(libor_2008_10_29,libor_maturities)\n",
        "\n",
        "print(\">>>Calibrated kappa is \" + str(calibrated_theta[0]))\n",
        "print(\">>>Calibrated mu is \" + str(calibrated_theta[1]))\n",
        "print(\">>>Calibrated sigma is \" + str(calibrated_theta[2]))\n",
        "print(\">>>Calibrated r_0 is \" + str(calibrated_theta[3]))"
      ],
      "execution_count": 0,
      "outputs": [
        {
          "output_type": "stream",
          "text": [
            ">>>Calibrated kappa is -0.16751822866885324\n",
            ">>>Calibrated mu is 0.2272785401828623\n",
            ">>>Calibrated sigma is -0.11172465115200159\n",
            ">>>Calibrated r_0 is 0.030702484976398742\n"
          ],
          "name": "stdout"
        }
      ]
    },
    {
      "metadata": {
        "id": "pg1jhEvqLrLi",
        "colab_type": "code",
        "colab": {}
      },
      "cell_type": "code",
      "source": [
        ""
      ],
      "execution_count": 0,
      "outputs": []
    }
  ]
}