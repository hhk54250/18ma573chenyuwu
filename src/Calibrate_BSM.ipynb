{
  "nbformat": 4,
  "nbformat_minor": 0,
  "metadata": {
    "colab": {
      "name": "Calibrate_BSM.ipynb",
      "version": "0.3.2",
      "provenance": [],
      "collapsed_sections": [],
      "include_colab_link": true
    },
    "kernelspec": {
      "name": "python3",
      "display_name": "Python 3"
    }
  },
  "cells": [
    {
      "cell_type": "markdown",
      "metadata": {
        "id": "view-in-github",
        "colab_type": "text"
      },
      "source": [
        "<a href=\"https://colab.research.google.com/github/wuchenyu38/18ma573chenyuwu/blob/master/src/Calibrate_BSM.ipynb\" target=\"_parent\"><img src=\"https://colab.research.google.com/assets/colab-badge.svg\" alt=\"Open In Colab\"/></a>"
      ]
    },
    {
      "metadata": {
        "id": "hQ7nD_qTvj8S",
        "colab_type": "code",
        "colab": {}
      },
      "cell_type": "code",
      "source": [
        "import numpy as np\n",
        "import scipy.optimize as so\n",
        "import matplotlib.pyplot as plt"
      ],
      "execution_count": 0,
      "outputs": []
    },
    {
      "metadata": {
        "id": "Kx22T0IYvyBn",
        "colab_type": "code",
        "outputId": "f94c5f2f-6f9a-4edd-b154-f3fa678ae770",
        "colab": {
          "base_uri": "https://localhost:8080/",
          "height": 34
        }
      },
      "cell_type": "code",
      "source": [
        "!git clone https://github.com/wuchenyu38/18ma573chenyuwu.git #run once"
      ],
      "execution_count": 2,
      "outputs": [
        {
          "output_type": "stream",
          "text": [
            "fatal: destination path '18ma573chenyuwu' already exists and is not an empty directory.\n"
          ],
          "name": "stdout"
        }
      ]
    },
    {
      "metadata": {
        "id": "LkmqWRVTwH7S",
        "colab_type": "code",
        "outputId": "797882ef-a94a-461b-b23d-551bffe8d515",
        "colab": {
          "base_uri": "https://localhost:8080/",
          "height": 34
        }
      },
      "cell_type": "code",
      "source": [
        "cd /content/18ma573chenyuwu/src/"
      ],
      "execution_count": 3,
      "outputs": [
        {
          "output_type": "stream",
          "text": [
            "/content/18ma573chenyuwu/src\n"
          ],
          "name": "stdout"
        }
      ]
    },
    {
      "metadata": {
        "id": "-dXaBwn8v4F1",
        "colab_type": "code",
        "colab": {}
      },
      "cell_type": "code",
      "source": [
        "from contract_v01 import VanillaOption\n",
        "from sde_1d_v01 import Gbm_1d"
      ],
      "execution_count": 0,
      "outputs": []
    },
    {
      "metadata": {
        "id": "X8fePjnfxh_O",
        "colab_type": "code",
        "outputId": "051bd256-0f6f-467a-a030-2716a96147c6",
        "colab": {
          "base_uri": "https://localhost:8080/",
          "height": 153
        }
      },
      "cell_type": "code",
      "source": [
        "'''======\n",
        "Read data\n",
        "========='''\n",
        "#Read four-column data\n",
        "#columns are otype, maturity, strike, option_price\n",
        "np_option_data1 = np.loadtxt('Optiondata1.dat', comments='#', delimiter=',')\n",
        "\n",
        "print('>>>>>>otype, strike, option_price, maturity')\n",
        "print(np_option_data1)"
      ],
      "execution_count": 37,
      "outputs": [
        {
          "output_type": "stream",
          "text": [
            ">>>>>>otype, strike, option_price, maturity\n",
            "[[  1.         165.           9.95         0.37260274]\n",
            " [  1.         167.5          8.25         0.37260274]\n",
            " [  1.         170.           6.8          0.37260274]\n",
            " [  1.         172.5          5.5          0.37260274]\n",
            " [  1.         175.           4.35         0.37260274]\n",
            " [  1.         177.5          3.35         0.37260274]\n",
            " [  1.         180.           2.65         0.37260274]]\n"
          ],
          "name": "stdout"
        }
      ]
    },
    {
      "metadata": {
        "id": "GULO_nosygwA",
        "colab_type": "code",
        "colab": {}
      },
      "cell_type": "code",
      "source": [
        "'''==============\n",
        "below are from the market data for underlying process\n",
        "================='''\n",
        "gbm1 = Gbm_1d(\n",
        "    init_state = 171.37, #market data\n",
        "    drift_ratio = .0273, #market data\n",
        "    vol_ratio = .1 #initial guess\n",
        ")"
      ],
      "execution_count": 0,
      "outputs": []
    },
    {
      "metadata": {
        "id": "-DlaorjfzOSY",
        "colab_type": "code",
        "colab": {}
      },
      "cell_type": "code",
      "source": [
        "'''====================\n",
        "create option_list from the data\n",
        "======================='''\n",
        "\n",
        "num_row = np_option_data1.shape[0]\n",
        "option_list = []\n",
        "\n",
        "for i in range(num_row):\n",
        "  option1 = VanillaOption(\n",
        "      otype = np_option_data1[i,0],\n",
        "      strike = np_option_data1[i,1],\n",
        "      maturity = np_option_data1[i,3],\n",
        "      market_price = np_option_data1[i,2]\n",
        "  )\n",
        "      \n",
        "  option_list.append(option1)"
      ],
      "execution_count": 0,
      "outputs": []
    },
    {
      "metadata": {
        "id": "6eVMtBvazR5P",
        "colab_type": "code",
        "colab": {}
      },
      "cell_type": "code",
      "source": [
        "#expand one column for vol\n",
        "np_option_data2 = np.append(np_option_data1, np.zeros([num_row,1]), axis = 1 )"
      ],
      "execution_count": 0,
      "outputs": []
    },
    {
      "metadata": {
        "id": "QsBp_VvyzT6P",
        "colab_type": "code",
        "colab": {}
      },
      "cell_type": "code",
      "source": [
        "'''================\n",
        "define an error function\n",
        "===================='''\n",
        "def error_function1(vol, gbm, option):\n",
        "  gbm.vol_ratio = vol\n",
        "  return np.abs(option.market_price - gbm.bsm_price(option))\n",
        "\n",
        "'''==========\n",
        "define a method to seek for an implied volatility\n",
        "============'''\n",
        "\n",
        "def implied_volatility(gbm, option):\n",
        "  init_vol = .1 #initial guess\n",
        "  return so.fmin(error_function1, init_vol, args = (gbm, option), disp = 0)[0]"
      ],
      "execution_count": 0,
      "outputs": []
    },
    {
      "metadata": {
        "id": "qIf8RRefzVuN",
        "colab_type": "code",
        "outputId": "8a2aa8f5-fa8d-4a52-801f-9cb9ce34e627",
        "colab": {
          "base_uri": "https://localhost:8080/",
          "height": 272
        }
      },
      "cell_type": "code",
      "source": [
        "#compute implied vols and add them into the last column\n",
        "for i in range(num_row):\n",
        "  np_option_data2[i,4] = implied_volatility(gbm1, option_list[i])\n",
        "  \n",
        "print('>>>>>>otype, maturity, strike, option_price, implied vol')\n",
        "print(np_option_data2)"
      ],
      "execution_count": 41,
      "outputs": [
        {
          "output_type": "stream",
          "text": [
            ">>>>>>otype, maturity, strike, option_price, implied vol\n",
            "[[1.00000000e+00 1.65000000e+02 9.95000000e+00 3.72602740e-01\n",
            "  1.20781250e-01]\n",
            " [1.00000000e+00 1.67500000e+02 8.25000000e+00 3.72602740e-01\n",
            "  1.21347656e-01]\n",
            " [1.00000000e+00 1.70000000e+02 6.80000000e+00 3.72602740e-01\n",
            "  1.23515625e-01]\n",
            " [1.00000000e+00 1.72500000e+02 5.50000000e+00 3.72602740e-01\n",
            "  1.24531250e-01]\n",
            " [1.00000000e+00 1.75000000e+02 4.35000000e+00 3.72602740e-01\n",
            "  1.24604492e-01]\n",
            " [1.00000000e+00 1.77500000e+02 3.35000000e+00 3.72602740e-01\n",
            "  1.23867188e-01]\n",
            " [1.00000000e+00 1.80000000e+02 2.65000000e+00 3.72602740e-01\n",
            "  1.26523438e-01]]\n"
          ],
          "name": "stdout"
        }
      ]
    },
    {
      "metadata": {
        "id": "v7yPbpZSzXOp",
        "colab_type": "code",
        "colab": {
          "base_uri": "https://localhost:8080/",
          "height": 361
        },
        "outputId": "9b4ac6f5-538a-4cc4-c4c6-e1e0f421810e"
      },
      "cell_type": "code",
      "source": [
        "plt.plot(np_option_data2[:,2], np_option_data2[:,4], label = '4 mon maturity')\n",
        "plt.ylabel('implied vol')\n",
        "plt.xlabel('strike')\n",
        "plt.legend();"
      ],
      "execution_count": 42,
      "outputs": [
        {
          "output_type": "display_data",
          "data": {
            "image/png": "[encoded data removed]",
            "text/plain": [
              "<Figure size 576x396 with 1 Axes>"
            ]
          },
          "metadata": {
            "tags": []
          }
        }
      ]
    },
    {
      "metadata": {
        "id": "uFmkjVOnYpoe",
        "colab_type": "code",
        "colab": {}
      },
      "cell_type": "code",
      "source": [
        "def error_function(vol, gbm, option_list):\n",
        "  gbm.vol_ratio = vol\n",
        "  err1 = 0\n",
        "  for i in np.arange(len(option_list)):\n",
        "    err1 = err1 + ((option_list[i]).market_price - gbm.bsm_price(option_list[i]))**2    \n",
        "  return err1"
      ],
      "execution_count": 0,
      "outputs": []
    },
    {
      "metadata": {
        "id": "uatbPy1NZj3W",
        "colab_type": "code",
        "colab": {}
      },
      "cell_type": "code",
      "source": [
        "def bsm_calibration(gbm, option_list):\n",
        "  init_vol = .1 #initial guess\n",
        "  return so.fmin(error_function, init_vol, args = (gbm, option_list), disp = 0)[0]"
      ],
      "execution_count": 0,
      "outputs": []
    },
    {
      "metadata": {
        "id": "wKkbTfStcCBk",
        "colab_type": "code",
        "colab": {
          "base_uri": "https://localhost:8080/",
          "height": 34
        },
        "outputId": "e723115d-cacf-4b52-c44e-8c52d06213a8"
      },
      "cell_type": "code",
      "source": [
        "calibrated_volatility1 = bsm_calibration(gbm1, option_list)\n",
        "print('>>>>>>>> calibrated_volatility is ' + str(calibrated_volatility1))"
      ],
      "execution_count": 45,
      "outputs": [
        {
          "output_type": "stream",
          "text": [
            ">>>>>>>> calibrated_volatility is 0.12375000000000008\n"
          ],
          "name": "stdout"
        }
      ]
    },
    {
      "metadata": {
        "id": "9GYoaqvvcKJI",
        "colab_type": "code",
        "colab": {
          "base_uri": "https://localhost:8080/",
          "height": 153
        },
        "outputId": "d3ae2cb8-03c2-4828-c585-f467958c28c2"
      },
      "cell_type": "code",
      "source": [
        "gbm1.vol_ratio = calibrated_volatility1\n",
        "option_calibrated_price = [gbm1.bsm_price(option_list[i]) for i in range(len(option_list))]\n",
        "print('>>>>>>>>> this is option price calculated from calibrated vol')\n",
        "option_calibrated_price"
      ],
      "execution_count": 46,
      "outputs": [
        {
          "output_type": "stream",
          "text": [
            ">>>>>>>>> this is option price calculated from calibrated vol\n"
          ],
          "name": "stdout"
        },
        {
          "output_type": "execute_result",
          "data": {
            "text/plain": [
              "[10.048272122644278,\n",
              " 8.339079749346027,\n",
              " 6.809474561490788,\n",
              " 5.467556398177749,\n",
              " 4.31447068268605,\n",
              " 3.344574734825059,\n",
              " 2.546300130559146]"
            ]
          },
          "metadata": {
            "tags": []
          },
          "execution_count": 46
        }
      ]
    },
    {
      "metadata": {
        "id": "J4BGI3odccZB",
        "colab_type": "code",
        "colab": {
          "base_uri": "https://localhost:8080/",
          "height": 361
        },
        "outputId": "2165f179-e899-4579-856c-69e786d611cf"
      },
      "cell_type": "code",
      "source": [
        "x_co = [option_list[i].strike for i in range(len(option_list))]\n",
        "y_co = [option_list[i].market_price for i in range(len(option_list))]\n",
        "plt.plot(x_co, y_co, 'o', label='market price')\n",
        "\n",
        "y_co = option_calibrated_price\n",
        "plt.plot(x_co, y_co, label = 'calib price')\n",
        "\n",
        "plt.ylabel('option price')\n",
        "plt.xlabel('strike with fixed 4-mon maturity')\n",
        "plt.legend();"
      ],
      "execution_count": 47,
      "outputs": [
        {
          "output_type": "display_data",
          "data": {
            "image/png": "[encoded data removed]",
            "text/plain": [
              "<Figure size 576x396 with 1 Axes>"
            ]
          },
          "metadata": {
            "tags": []
          }
        }
      ]
    },
    {
      "metadata": {
        "id": "f_Yht1F_cvyp",
        "colab_type": "code",
        "colab": {}
      },
      "cell_type": "code",
      "source": [
        ""
      ],
      "execution_count": 0,
      "outputs": []
    }
  ]
}