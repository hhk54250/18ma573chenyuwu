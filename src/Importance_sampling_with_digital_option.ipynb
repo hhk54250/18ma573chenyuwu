{
  "nbformat": 4,
  "nbformat_minor": 0,
  "metadata": {
    "colab": {
      "name": "Importance sampling with digital option.ipynb",
      "version": "0.3.2",
      "provenance": [],
      "collapsed_sections": [],
      "include_colab_link": true
    },
    "kernelspec": {
      "name": "python3",
      "display_name": "Python 3"
    }
  },
  "cells": [
    {
      "cell_type": "markdown",
      "metadata": {
        "id": "view-in-github",
        "colab_type": "text"
      },
      "source": [
        "<a href=\"https://colab.research.google.com/github/wuchenyu38/18ma573chenyuwu/blob/master/src/Importance_sampling_with_digital_option.ipynb\" target=\"_parent\"><img src=\"https://colab.research.google.com/assets/colab-badge.svg\" alt=\"Open In Colab\"/></a>"
      ]
    },
    {
      "metadata": {
        "id": "sicQCHTOfAW7",
        "colab_type": "code",
        "colab": {}
      },
      "cell_type": "code",
      "source": [
        "import numpy as np\n",
        "import scipy.optimize as so\n",
        "import scipy.integrate as si\n",
        "import matplotlib.pyplot as plt"
      ],
      "execution_count": 0,
      "outputs": []
    },
    {
      "metadata": {
        "id": "kKdpnz5novuC",
        "colab_type": "code",
        "colab": {}
      },
      "cell_type": "code",
      "source": [
        "def omc_v10_sq(n):\n",
        "  v_vec = np.zeros(n)\n",
        "  for j in range(n):\n",
        "    indic_sum = 0 \n",
        "    for i in range(10):\n",
        "      z = np.random.normal(0,1) \n",
        "      if z < -2:\n",
        "        indic_sum = indic_sum + 1 \n",
        "    v10 = indic_sum/10\n",
        "    v_vec[j] = v10**2 \n",
        "  return v_vec.mean()"
      ],
      "execution_count": 0,
      "outputs": []
    },
    {
      "metadata": {
        "id": "qjrFxkdTo1Zz",
        "colab_type": "code",
        "colab": {
          "base_uri": "https://localhost:8080/",
          "height": 68
        },
        "outputId": "e6796eb1-17bd-4c88-9519-6a05af2b71b3"
      },
      "cell_type": "code",
      "source": [
        "out_1 = omc_v10_sq(1000)\n",
        "out_2 = omc_v10_sq(2000)\n",
        "out_3 = omc_v10_sq(100000)\n",
        "print(\"OMC approximation for 1000 trials is: \" + str(out_1))\n",
        "print(\"OMC approximation for 2000 trials is: \" + str(out_2))\n",
        "print(\"OMC approximation for 100000 trials is: \" + str(out_3))"
      ],
      "execution_count": 4,
      "outputs": [
        {
          "output_type": "stream",
          "text": [
            "OMC approximation for 1000 trials is: 0.002960000000000001\n",
            "OMC approximation for 2000 trials is: 0.00279\n",
            "OMC approximation for 100000 trials is: 0.0027326000000000004\n"
          ],
          "name": "stdout"
        }
      ]
    },
    {
      "metadata": {
        "id": "Z3L9D4afo634",
        "colab_type": "text"
      },
      "cell_type": "markdown",
      "source": [
        "OMC approximation of $E[\\hat V_{10} ^{2}]$ is above"
      ]
    },
    {
      "metadata": {
        "id": "xO0OGCHco2uq",
        "colab_type": "code",
        "colab": {}
      },
      "cell_type": "code",
      "source": [
        "def v10_is(n,b):\n",
        "  indic_sum = 0 \n",
        "  for i in range(n):\n",
        "    x = np.random.normal(-b,1) \n",
        "    if x < -2:\n",
        "      indic_sum = indic_sum + np.exp(x * b)\n",
        "  v10 = np.exp(0.5 * (b**2)) * (1/10) * indic_sum\n",
        "  return v10"
      ],
      "execution_count": 0,
      "outputs": []
    },
    {
      "metadata": {
        "id": "dEhcGZCKpI3q",
        "colab_type": "code",
        "colab": {}
      },
      "cell_type": "code",
      "source": [
        "def is_average(m,n,b):\n",
        "  v10_is_vec = np.zeros(m)\n",
        "  for i in range(m):\n",
        "    v10_out = v10_is(n,b)\n",
        "    v10_is_vec[i] = v10_out**2\n",
        "  return v10_is_vec.mean()"
      ],
      "execution_count": 0,
      "outputs": []
    },
    {
      "metadata": {
        "id": "BXSr9U_NpPRc",
        "colab_type": "code",
        "colab": {
          "base_uri": "https://localhost:8080/",
          "height": 68
        },
        "outputId": "f8c7a2c6-8872-437a-e2c5-8be67d1e6aaa"
      },
      "cell_type": "code",
      "source": [
        "is_out_1 = is_average(1000,10,2)\n",
        "is_out_2 = is_average(2000,10,2)\n",
        "is_out_3 = is_average(10000,10,2)\n",
        "\n",
        "print(\"Importance Sampling output for m = 1000 is \" + str(is_out_1))\n",
        "print(\"Importance Sampling output for m = 2000 is \" + str(is_out_2))\n",
        "print(\"Importance Sampling output for m = 10000 is \" + str(is_out_3))"
      ],
      "execution_count": 8,
      "outputs": [
        {
          "output_type": "stream",
          "text": [
            "Importance Sampling output for m = 1000 is 0.000662696033401073\n",
            "Importance Sampling output for m = 2000 is 0.0006296085840090797\n",
            "Importance Sampling output for m = 10000 is 0.0006382572217260673\n"
          ],
          "name": "stdout"
        }
      ]
    },
    {
      "metadata": {
        "id": "EEY1kdKApfvP",
        "colab_type": "text"
      },
      "cell_type": "markdown",
      "source": [
        "The important sampling method generate the $E[\\hat V_{10} ^{2}]$ is around .0006 which is much smaller than what we get from OMC method."
      ]
    }
  ]
}