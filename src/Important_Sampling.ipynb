{
  "nbformat": 4,
  "nbformat_minor": 0,
  "metadata": {
    "colab": {
      "name": "Inverse Transform and Important Sampling.ipynb",
      "version": "0.3.2",
      "provenance": [],
      "collapsed_sections": [],
      "include_colab_link": true
    },
    "kernelspec": {
      "name": "python3",
      "display_name": "Python 3"
    }
  },
  "cells": [
    {
      "cell_type": "markdown",
      "metadata": {
        "id": "view-in-github",
        "colab_type": "text"
      },
      "source": [
        "<a href=\"https://colab.research.google.com/github/wuchenyu38/18ma573chenyuwu/blob/master/src/Important_Sampling.ipynb\" target=\"_parent\"><img src=\"https://colab.research.google.com/assets/colab-badge.svg\" alt=\"Open In Colab\"/></a>"
      ]
    },
    {
      "metadata": {
        "id": "ccx936qHRzcm",
        "colab_type": "text"
      },
      "cell_type": "markdown",
      "source": [
        "Since we know the:\n",
        "\n",
        "$$\n",
        "p(x)=\\frac{1}{C}(2I_{(0,\\frac{1}{100})}(x)+I_{(\\frac{1}{100},1)}(x))\n",
        "$$\n",
        "\n",
        "and the cdf: F(x) can be calculated from pdf: p(x) by:\n",
        "$$\n",
        "F(x)=\\int_{-\\infty}^{+\\infty}p(x)dx\n",
        "$$\n",
        "\n",
        "For the given pdf formula, F(x) is zero when x is smaller than zero, So:\n",
        "$$\n",
        "F(x)=\\int_0^{x}p(x)dx\n",
        "$$\n",
        "\n",
        "$$\n",
        "F(x)=\\int_0^x{(\\frac{1}{C}(2I_{(0,\\frac{1}{100})}(x)+I_{(\\frac{1}{100},1)}(x))dx})\n",
        "\\\\\n",
        "F(x)=\\frac{1}{C}(2xI_{(0,\\frac{1}{100})}(x)+ (x+\\frac{1}{100})I_{(\\frac{1}{100},1)}(x))\n",
        "\\\\\n",
        "\\int_{-\\infty}^{+\\infty} p(x)=\\frac{1}{C}(\\frac{2}{100}+\\frac{99}{100})=1\n",
        "\\\\\n",
        "C=\\frac{101}{100}\n",
        "$$\n",
        "Then we can get formula of F(x)\n",
        "$$\n",
        "F(x)=\\frac{100}{101}(2xI_{(0,\\frac{1}{100})}(x)+ (x+\\frac{1}{100})I_{(\\frac{1}{100},1)}(x))\n",
        "$$\n",
        "\n",
        "In order to get the inverse transform $F^{-1}(x)$\n",
        "\n",
        "From $2xI_{(0,\\frac{1}{100})}(x)$ we can get the boundry value of $y$ is $\\frac{2}{100}$ \n",
        "\n",
        "Then we set the formula of $F^{-1}(x)$ is:\n",
        "$$\n",
        "F^{-1}(x)=\\frac{101}{100}\\frac{1}{2}yI_{(0,\\frac{2}{100})}(y)+ (\\frac{101}{100}y-\\frac{1}{100})I_{(\\frac{2}{100},1)}(y)\n",
        "$$"
      ]
    },
    {
      "metadata": {
        "id": "FcLXGlccZkug",
        "colab_type": "text"
      },
      "cell_type": "markdown",
      "source": [
        "3."
      ]
    },
    {
      "metadata": {
        "id": "TqjXjCh-ZrvC",
        "colab_type": "code",
        "colab": {}
      },
      "cell_type": "code",
      "source": [
        "import numpy as np\n",
        "import matplotlib.pyplot as plt\n",
        "import scipy.stats as ss"
      ],
      "execution_count": 0,
      "outputs": []
    },
    {
      "metadata": {
        "id": "JKi6RIHfY_36",
        "colab_type": "code",
        "colab": {}
      },
      "cell_type": "code",
      "source": [
        "def h(x): #define function h(x)\n",
        "  return 100*(x<=1/100)+1*(1/100<x<1)\n",
        "\n",
        "def pdf_1(x): #p(x)\n",
        "  C=101/100\n",
        "  return (1/C)*(2*(x<=1/100)+1*(1/100<x<1))\n",
        "\n",
        "def inverse_transform_f(x): #F^{-1}(x)\n",
        "  C=101/100\n",
        "  return (1/2)*C*x*((C*x)<=2/100)+(C*x-1/100)*(2/100<(C*x)<101/100)\n",
        "  \n",
        "def importance_sampling_integral(h,inverse_transform_f,pdf_1,n): #get the sigmabar here.\n",
        "  Y=np.random.uniform(low=0,high=1,size=n)\n",
        "  X=[inverse_transform_f(x) for x in Y]\n",
        "  res=[h(m)/pdf_1(m) for m in X]\n",
        "  return 1/n*sum(res)"
      ],
      "execution_count": 0,
      "outputs": []
    },
    {
      "metadata": {
        "id": "SzW8WYzNZu33",
        "colab_type": "code",
        "outputId": "a82d9037-724b-4e5a-b840-6c75cf3f02e7",
        "colab": {
          "base_uri": "https://localhost:8080/",
          "height": 34
        }
      },
      "cell_type": "code",
      "source": [
        "importance_sampling_integral(h,inverse_transform_f,pdf_1,500)"
      ],
      "execution_count": 63,
      "outputs": [
        {
          "output_type": "execute_result",
          "data": {
            "text/plain": [
              "2.197759999999993"
            ]
          },
          "metadata": {
            "tags": []
          },
          "execution_count": 63
        }
      ]
    },
    {
      "metadata": {
        "id": "JeO96I-kZwRv",
        "colab_type": "code",
        "outputId": "1dbe4e5b-b0ff-46d8-b29c-faf6f1cf4a8d",
        "colab": {
          "base_uri": "https://localhost:8080/",
          "height": 347
        }
      },
      "cell_type": "code",
      "source": [
        "m=100\n",
        "alpha=np.zeros((6,m))\n",
        "sigma=[]\n",
        "for i in range(5,11):\n",
        "  alpha[i-6]=np.array([importance_sampling_integral(h,inverse_transform_f,pdf_1,2**i) for _ in range(m)])\n",
        "  sigma.append(np.std(alpha[i-6]))\n",
        "xx=[i for i in range(5,11)]\n",
        "yy=-np.log2(sigma)\n",
        "plt.plot(xx,yy)\n",
        "plt.show()"
      ],
      "execution_count": 36,
      "outputs": [
        {
          "output_type": "display_data",
          "data": {
            "image/png": "[encoded data removed]",
            "text/plain": [
              "<Figure size 576x396 with 1 Axes>"
            ]
          },
          "metadata": {
            "tags": []
          }
        }
      ]
    },
    {
      "metadata": {
        "id": "JnlcR2KBZ2KP",
        "colab_type": "code",
        "outputId": "5094f1ff-d5df-4eed-c1fc-16c3cac41d51",
        "colab": {
          "base_uri": "https://localhost:8080/",
          "height": 34
        }
      },
      "cell_type": "code",
      "source": [
        "out = ss.linregress(xx,yy)\n",
        "print('----->>>the convergence order is ' + str(out[0]))"
      ],
      "execution_count": 37,
      "outputs": [
        {
          "output_type": "stream",
          "text": [
            "----->>>the convergence order is 0.5003304268718556\n"
          ],
          "name": "stdout"
        }
      ]
    },
    {
      "metadata": {
        "id": "HiWnNXOSbBFW",
        "colab_type": "text"
      },
      "cell_type": "markdown",
      "source": [
        "Here we replace the calculated C value with the value we calculated from last lecture:\n",
        "$C = \\frac{199}{100}$"
      ]
    },
    {
      "metadata": {
        "id": "RQznIcQoa5k8",
        "colab_type": "code",
        "colab": {}
      },
      "cell_type": "code",
      "source": [
        "def pdf_2(x):  #Basically here we replaced all C value with 199/100, rest kept same.\n",
        "  C=199/100\n",
        "  return (1/C)*(100*(x<=1/100)+1*(1/100<x<1))\n",
        "\n",
        "def inverse_transform_f2(x):\n",
        "  C=199/100\n",
        "  return (1/100)*C*x*((C*x)<=1)+(C*x-99/100)*(1<(C*x)<199/100)\n",
        "  \n",
        "def importance_sampling_integral2(h,inverse_transform_f,pdf_1,n):\n",
        "  Y=np.random.uniform(low=0,high=1,size=n)\n",
        "  X=[inverse_transform_f2(x) for x in Y]\n",
        "  res=[h(m)/pdf_2(m) for m in X]\n",
        "  return 1/n*sum(res)"
      ],
      "execution_count": 0,
      "outputs": []
    },
    {
      "metadata": {
        "id": "hT6RAKjSa7Yx",
        "colab_type": "code",
        "outputId": "f39b9605-ae03-49dc-8160-0478dfaf9b71",
        "colab": {
          "base_uri": "https://localhost:8080/",
          "height": 34
        }
      },
      "cell_type": "code",
      "source": [
        "importance_sampling_integral2(h,inverse_transform_f2,pdf_2,500) #compare to first C value, this test is pretty deterministic."
      ],
      "execution_count": 68,
      "outputs": [
        {
          "output_type": "execute_result",
          "data": {
            "text/plain": [
              "1.9900000000000075"
            ]
          },
          "metadata": {
            "tags": []
          },
          "execution_count": 68
        }
      ]
    }
  ]
}