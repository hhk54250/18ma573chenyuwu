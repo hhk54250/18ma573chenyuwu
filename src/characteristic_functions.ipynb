{
  "nbformat": 4,
  "nbformat_minor": 0,
  "metadata": {
    "colab": {
      "name": "characteristic_functions.ipynb",
      "version": "0.3.2",
      "provenance": [],
      "collapsed_sections": [],
      "include_colab_link": true
    },
    "kernelspec": {
      "name": "python3",
      "display_name": "Python 3"
    }
  },
  "cells": [
    {
      "cell_type": "markdown",
      "metadata": {
        "id": "view-in-github",
        "colab_type": "text"
      },
      "source": [
        "<a href=\"https://colab.research.google.com/github/wuchenyu38/18ma573chenyuwu/blob/master/characteristic_functions.ipynb\" target=\"_parent\"><img src=\"https://colab.research.google.com/assets/colab-badge.svg\" alt=\"Open In Colab\"/></a>"
      ]
    },
    {
      "metadata": {
        "id": "N5_8UwFiIcJT",
        "colab_type": "text"
      },
      "cell_type": "markdown",
      "source": [
        "$$\n",
        "X_t=e^{iuW_t}\n",
        "\\\\\n",
        "\\Phi(t)=E[X_t]\n",
        "$$\n",
        "For one-dimensional Wiener process:\n",
        "$$\n",
        "f_{W_t}(x)=\\frac{1}{\\sqrt{2\\pi t}}e^{-x^2/(2t)}\n",
        "$$\n",
        "So:\n",
        "$$\n",
        "\\Phi(t)=\\frac{1}{\\sqrt{2\\pi t}}\\int{e^{iux}e^{-x^2/(2t)}}dx=\\frac{1}{\\sqrt{2\\pi t}}\\int{e^{\\frac{-u^2}{2}t}e^{-\\frac{1}{2t}(x-uti)^2}dx}=e^{-\\frac{u^2t}{2}}\n",
        "$$"
      ]
    },
    {
      "metadata": {
        "id": "rrgjyu1vTx4V",
        "colab_type": "text"
      },
      "cell_type": "markdown",
      "source": [
        "for $\\Upsilon$ ~ $N(\\mu, \\sigma ^2)$\n",
        "$$\n",
        "\\Phi(u)=E[e^{iuY}]=E[e^{iu(\\mu+W_t)}]=e^{iu\\mu}E[e^{iuW_t}]=e^{iu\\mu - \\frac{u^2 \\sigma^2}{2}}\n",
        "$$"
      ]
    }
  ]
}
