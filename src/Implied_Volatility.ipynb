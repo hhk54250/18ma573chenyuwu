{
  "nbformat": 4,
  "nbformat_minor": 0,
  "metadata": {
    "colab": {
      "name": "Implied Volatility.ipynb",
      "version": "0.3.2",
      "provenance": [],
      "collapsed_sections": [],
      "include_colab_link": true
    },
    "kernelspec": {
      "name": "python3",
      "display_name": "Python 3"
    }
  },
  "cells": [
    {
      "cell_type": "markdown",
      "metadata": {
        "id": "view-in-github",
        "colab_type": "text"
      },
      "source": [
        "<a href=\"https://colab.research.google.com/github/wuchenyu38/18ma573chenyuwu/blob/master/src/Implied_Volatility.ipynb\" target=\"_parent\"><img src=\"https://colab.research.google.com/assets/colab-badge.svg\" alt=\"Open In Colab\"/></a>"
      ]
    },
    {
      "metadata": {
        "id": "VcDLQRBn8OWz",
        "colab_type": "text"
      },
      "cell_type": "markdown",
      "source": [
        "- Prove the following facts: Supose $f$ is a function satisfying\n",
        "  - $f: [0, \\infty) \\mapsto (f_{min}, f_{max})$\n",
        "  - $f$ is continuous\n",
        "  - $f$ is strictly increasing\n",
        "  \n",
        "  then, for any $p\\in  (f_{min}, f_{max})$, \n",
        "  - there exists unique $\\hat \\sigma$, s.t. $f(\\hat \\sigma) = p$;\n",
        "  - Moreover, \n",
        "  $$\\hat \\sigma = \\arg\\min_{\\sigma\\in (0,\\infty)} | f(\\sigma) - p|.$$\n",
        "\n"
      ]
    },
    {
      "metadata": {
        "id": "aG14Ng678Rvp",
        "colab_type": "text"
      },
      "cell_type": "markdown",
      "source": [
        "Since it claims there exists unique \n",
        "$$\n",
        "**\\hat{\\sigma}, s.t. f(\\hat{\\sigma})=p;**\n",
        "\\\\\n",
        "for\\space any\\space p  \\in(f_{min}, f_{max})\n",
        "$$\n",
        "We want to first prove the uniqueness of $\\hat{\\sigma}$\n",
        "</br>\n",
        "Since $f$ is continuous and strictly increasing, we know that $f(a)>f(b) \\space$ if $a>b$ and $a,b \\in[0, \\infty)$.\n",
        "In this case, we set hypothesis $H_{0}$ that there exist two points $\\sigma_{a}$ and $\\sigma_{b}$ on $[0,\\infty)$ which have $f(\\sigma_{a})=f(\\sigma_{b})$ when $\\sigma_{a}\\ne\\sigma_{b}$. However, this situation contradict the prerequisite of function $f$ on $[0, \\infty)$ In this case, we can conclude for value p, there exist unique $\\hat{\\sigma}$ s.t. $f(\\hat{\\sigma})=p$ \n"
      ]
    },
    {
      "metadata": {
        "id": "wWpr48AyDhcp",
        "colab_type": "text"
      },
      "cell_type": "markdown",
      "source": [
        "In order to prove:\n",
        "$$\\hat \\sigma = \\arg\\min_{\\sigma\\in (0,\\infty)} | f(\\sigma) - p|.$$\n",
        "Since we have proved:\n",
        "for any $p\\in(f_{min}, f_{max})$, there exists a unique $\\hat{\\sigma},$ $s.t. f(\\hat{\\sigma})=p;$\n",
        "</br>\n",
        "when $\\sigma = \\hat{\\sigma}$, we have $f(\\sigma)=f(\\hat{\\sigma})=p$ Then $f(\\sigma)-p=0$. at this point $\\hat{\\sigma}$.\n",
        "So, we can conclude:\n",
        "$$\n",
        "\\hat \\sigma = \\arg\\min_{\\sigma\\in (0,\\infty)} | f(\\sigma) - p|\n",
        "$$\n",
        "proof complete"
      ]
    },
    {
      "metadata": {
        "id": "K1oeJrlIFoZ8",
        "colab_type": "text"
      },
      "cell_type": "markdown",
      "source": [
        "- Now we denote by $f(\\sigma)$ the BSM put price with the following parameters:\n",
        "  - vol_ratio = $\\sigma$; spot_price = 100.; drift_ratio = .0475; strike = 110.; maturity = 1.\n",
        "  \n",
        "  Answer the following questions:\n",
        "  - What is $f_{min}$ and $f_{max}$?\n",
        "  - Is $f$ strictly increasing on $(0,\\infty)$? Justify your answer.\n",
        "  - If the market put price is $10$, then what's the implied volatility?"
      ]
    },
    {
      "metadata": {
        "id": "otL8oegVDeXS",
        "colab_type": "code",
        "colab": {
          "base_uri": "https://localhost:8080/",
          "height": 119
        },
        "outputId": "15f26c67-fa0c-4323-edc6-b8a3fe78aa63"
      },
      "cell_type": "code",
      "source": [
        "!git clone https://github.com/songqsh/19ma573qingshuo.git #Only run once!"
      ],
      "execution_count": 1,
      "outputs": [
        {
          "output_type": "stream",
          "text": [
            "Cloning into '19ma573qingshuo'...\n",
            "remote: Enumerating objects: 46, done.\u001b[K\n",
            "remote: Counting objects: 100% (46/46), done.\u001b[K\n",
            "remote: Compressing objects: 100% (45/45), done.\u001b[K\n",
            "remote: Total 46 (delta 13), reused 0 (delta 0), pack-reused 0\u001b[K\n",
            "Unpacking objects: 100% (46/46), done.\n"
          ],
          "name": "stdout"
        }
      ]
    },
    {
      "metadata": {
        "id": "syZH9wwb8RWB",
        "colab_type": "code",
        "colab": {
          "base_uri": "https://localhost:8080/",
          "height": 34
        },
        "outputId": "4587cc0a-7764-4110-9318-0ab203a2aa61"
      },
      "cell_type": "code",
      "source": [
        "cd /content/19ma573qingshuo/src/"
      ],
      "execution_count": 2,
      "outputs": [
        {
          "output_type": "stream",
          "text": [
            "/content/19ma573qingshuo/src\n"
          ],
          "name": "stdout"
        }
      ]
    },
    {
      "metadata": {
        "id": "K_KP6A4B8K0r",
        "colab_type": "code",
        "colab": {
          "base_uri": "https://localhost:8080/",
          "height": 34
        },
        "outputId": "7d84e547-9e16-46e1-f722-b6508b0b0155"
      },
      "cell_type": "code",
      "source": [
        "pwd"
      ],
      "execution_count": 3,
      "outputs": [
        {
          "output_type": "execute_result",
          "data": {
            "text/plain": [
              "'/content/19ma573qingshuo/src'"
            ]
          },
          "metadata": {
            "tags": []
          },
          "execution_count": 3
        }
      ]
    },
    {
      "metadata": {
        "id": "EZfGCvapGSHf",
        "colab_type": "code",
        "colab": {}
      },
      "cell_type": "code",
      "source": [
        "import numpy as np\n",
        "import scipy.stats as ss\n",
        "import matplotlib.pyplot as plt\n",
        "import scipy.optimize as so\n",
        "from european_option_class import VanillaOption\n",
        "from gbm_1d_class import Gbm"
      ],
      "execution_count": 0,
      "outputs": []
    },
    {
      "metadata": {
        "id": "Bpg8K4oOJIXJ",
        "colab_type": "code",
        "colab": {}
      },
      "cell_type": "code",
      "source": [
        "range = np.linspace(0.1,20,40)"
      ],
      "execution_count": 0,
      "outputs": []
    },
    {
      "metadata": {
        "id": "IxPzwNAjJQLN",
        "colab_type": "code",
        "colab": {}
      },
      "cell_type": "code",
      "source": [
        "gbm_interval = Gbm(init_state = 100, drift_ratio = 0.0475, vol_ratio = range)"
      ],
      "execution_count": 0,
      "outputs": []
    },
    {
      "metadata": {
        "id": "9nVOXXKiJT_Z",
        "colab_type": "code",
        "colab": {
          "base_uri": "https://localhost:8080/",
          "height": 347
        },
        "outputId": "96c81fac-9a25-4567-dfbf-69ffa2ce7eca"
      },
      "cell_type": "code",
      "source": [
        "x_var = range\n",
        "y_var = gbm_interval.bsm_price(option1)\n",
        "plt.plot(x_var,y_var,label='Put Price');\n",
        "plt.legend();"
      ],
      "execution_count": 48,
      "outputs": [
        {
          "output_type": "display_data",
          "data": {
            "image/png": "[encoded data removed]",
            "text/plain": [
              "<Figure size 576x396 with 1 Axes>"
            ]
          },
          "metadata": {
            "tags": []
          }
        }
      ]
    },
    {
      "metadata": {
        "id": "rQArzVi6NFzn",
        "colab_type": "text"
      },
      "cell_type": "markdown",
      "source": [
        "From the graph above, we can the function is strictly increasing from 0 to almost 5, we want to check if the function continuously increasing after $\\sigma=5$. "
      ]
    },
    {
      "metadata": {
        "id": "Y5b85UOpKHRU",
        "colab_type": "code",
        "colab": {
          "base_uri": "https://localhost:8080/",
          "height": 187
        },
        "outputId": "8f47aa6a-3810-4a8f-f8a7-d82fb83db708"
      },
      "cell_type": "code",
      "source": [
        "gbm_interval.bsm_price(option1)"
      ],
      "execution_count": 49,
      "outputs": [
        {
          "output_type": "execute_result",
          "data": {
            "text/plain": [
              "array([  6.99171874,  27.08173401,  45.99363854,  62.41667276,\n",
              "        75.77424891,  85.95571948,  93.22933706,  98.09970841,\n",
              "       101.1563939 , 102.95451399, 103.94595465, 104.45833801,\n",
              "       104.70653893, 104.81923049, 104.86718821, 104.88631772,\n",
              "       104.89346971, 104.89597598, 104.89679917, 104.8970526 ,\n",
              "       104.89712573, 104.89714551, 104.89715052, 104.89715171,\n",
              "       104.89715198, 104.89715203, 104.89715204, 104.89715204,\n",
              "       104.89715204, 104.89715204, 104.89715204, 104.89715204,\n",
              "       104.89715204, 104.89715204, 104.89715204, 104.89715204,\n",
              "       104.89715204, 104.89715204, 104.89715204, 104.89715204])"
            ]
          },
          "metadata": {
            "tags": []
          },
          "execution_count": 49
        }
      ]
    },
    {
      "metadata": {
        "id": "RjI_ywXnKL7y",
        "colab_type": "code",
        "colab": {}
      },
      "cell_type": "code",
      "source": [
        "range_1 = np.linspace(20,100,40)"
      ],
      "execution_count": 0,
      "outputs": []
    },
    {
      "metadata": {
        "id": "x4DNCCUbKS9V",
        "colab_type": "code",
        "colab": {}
      },
      "cell_type": "code",
      "source": [
        "gbm_interval_1 = Gbm(init_state = 100, drift_ratio = 0.0475, vol_ratio = range_1)"
      ],
      "execution_count": 0,
      "outputs": []
    },
    {
      "metadata": {
        "id": "EENZETDjKWdx",
        "colab_type": "code",
        "colab": {
          "base_uri": "https://localhost:8080/",
          "height": 347
        },
        "outputId": "dfb95390-5921-4539-cbdd-a692e6622354"
      },
      "cell_type": "code",
      "source": [
        "x_var_2 = range_1\n",
        "y_var_2 = gbm_interval_1.bsm_price(option1)\n",
        "plt.plot(x_var_2,y_var_2,label='Put Price');\n",
        "plt.legend();"
      ],
      "execution_count": 57,
      "outputs": [
        {
          "output_type": "display_data",
          "data": {
            "image/png": "[encoded data removed]",
            "text/plain": [
              "<Figure size 576x396 with 1 Axes>"
            ]
          },
          "metadata": {
            "tags": []
          }
        }
      ]
    },
    {
      "metadata": {
        "id": "Uyn5MYXTKjLQ",
        "colab_type": "code",
        "colab": {
          "base_uri": "https://localhost:8080/",
          "height": 187
        },
        "outputId": "90958512-7771-4459-e194-ecadff957f34"
      },
      "cell_type": "code",
      "source": [
        "gbm_interval_1.bsm_price(option1)"
      ],
      "execution_count": 58,
      "outputs": [
        {
          "output_type": "execute_result",
          "data": {
            "text/plain": [
              "array([104.89715204, 104.89715204, 104.89715204, 104.89715204,\n",
              "       104.89715204, 104.89715204, 104.89715204, 104.89715204,\n",
              "       104.89715204, 104.89715204, 104.89715204, 104.89715204,\n",
              "       104.89715204, 104.89715204, 104.89715204, 104.89715204,\n",
              "       104.89715204, 104.89715204, 104.89715204, 104.89715204,\n",
              "       104.89715204, 104.89715204, 104.89715204, 104.89715204,\n",
              "       104.89715204, 104.89715204, 104.89715204, 104.89715204,\n",
              "       104.89715204, 104.89715204, 104.89715204, 104.89715204,\n",
              "       104.89715204, 104.89715204, 104.89715204, 104.89715204,\n",
              "       104.89715204, 104.89715204, 104.89715204, 104.89715204])"
            ]
          },
          "metadata": {
            "tags": []
          },
          "execution_count": 58
        }
      ]
    },
    {
      "metadata": {
        "id": "hD1N-MorOKMz",
        "colab_type": "text"
      },
      "cell_type": "markdown",
      "source": [
        "From graph above and the GBM values, we can see $f(\\sigma)$ become a straight line in [20, 100], then we can conclude the $f(\\sigma)$ is not strictly increasing on $(0, \\infty)$. $f_{max}(\\sigma)\\approx104.89715204$"
      ]
    },
    {
      "metadata": {
        "id": "r3AxwiHVO9D7",
        "colab_type": "text"
      },
      "cell_type": "markdown",
      "source": [
        "Then we want to find out the minimum value $f_{min}(\\sigma)$ on $(0, \\infty)$"
      ]
    },
    {
      "metadata": {
        "id": "c40B2gNePUY1",
        "colab_type": "text"
      },
      "cell_type": "markdown",
      "source": [
        "Since we know the $f(\\sigma)$ is strictly increasing on (0, 5) from previous graphs, we want to check the value of $f(\\sigma)$ when $\\sigma$ is around 0."
      ]
    },
    {
      "metadata": {
        "id": "PNSAgvHgK6GU",
        "colab_type": "code",
        "colab": {}
      },
      "cell_type": "code",
      "source": [
        "range_2 = np.linspace(0.000001,0.001,40)"
      ],
      "execution_count": 0,
      "outputs": []
    },
    {
      "metadata": {
        "id": "6izT9wPfLErj",
        "colab_type": "code",
        "colab": {}
      },
      "cell_type": "code",
      "source": [
        "gbm_interval_2 = Gbm(init_state = 100, drift_ratio = 0.0475, vol_ratio = range_2)"
      ],
      "execution_count": 0,
      "outputs": []
    },
    {
      "metadata": {
        "id": "2vmlW4UULTBq",
        "colab_type": "code",
        "colab": {
          "base_uri": "https://localhost:8080/",
          "height": 347
        },
        "outputId": "63268a4e-2ca6-44c9-8912-8954303426f8"
      },
      "cell_type": "code",
      "source": [
        "x_var_2 = range_1\n",
        "y_var_2 = gbm_interval_2.bsm_price(option1)\n",
        "plt.plot(x_var_2,y_var_2,label='Put Price');\n",
        "plt.legend();"
      ],
      "execution_count": 61,
      "outputs": [
        {
          "output_type": "display_data",
          "data": {
            "image/png": "[encoded data removed]",
            "text/plain": [
              "<Figure size 576x396 with 1 Axes>"
            ]
          },
          "metadata": {
            "tags": []
          }
        }
      ]
    },
    {
      "metadata": {
        "id": "H5IcCLlvLPa0",
        "colab_type": "code",
        "colab": {
          "base_uri": "https://localhost:8080/",
          "height": 153
        },
        "outputId": "31960297-2702-4c6a-b636-29cf6387b5eb"
      },
      "cell_type": "code",
      "source": [
        "gbm_interval_2.bsm_price(option1)"
      ],
      "execution_count": 62,
      "outputs": [
        {
          "output_type": "execute_result",
          "data": {
            "text/plain": [
              "array([4.89715204, 4.89715204, 4.89715204, 4.89715204, 4.89715204,\n",
              "       4.89715204, 4.89715204, 4.89715204, 4.89715204, 4.89715204,\n",
              "       4.89715204, 4.89715204, 4.89715204, 4.89715204, 4.89715204,\n",
              "       4.89715204, 4.89715204, 4.89715204, 4.89715204, 4.89715204,\n",
              "       4.89715204, 4.89715204, 4.89715204, 4.89715204, 4.89715204,\n",
              "       4.89715204, 4.89715204, 4.89715204, 4.89715204, 4.89715204,\n",
              "       4.89715204, 4.89715204, 4.89715204, 4.89715204, 4.89715204,\n",
              "       4.89715204, 4.89715204, 4.89715204, 4.89715204, 4.89715204])"
            ]
          },
          "metadata": {
            "tags": []
          },
          "execution_count": 62
        }
      ]
    },
    {
      "metadata": {
        "id": "jLmEH1IuPwNq",
        "colab_type": "text"
      },
      "cell_type": "markdown",
      "source": [
        "From graph and $f(\\sigma)$ above, we can conclude that $f_{min}(\\sigma)\\approx4.89715204$"
      ]
    },
    {
      "metadata": {
        "id": "ZXUzN_goQI-p",
        "colab_type": "text"
      },
      "cell_type": "markdown",
      "source": [
        "To calculate the volatility ratio when the market put price is $10$, we set the volatility ratio is .2 here."
      ]
    },
    {
      "metadata": {
        "id": "Phez4-jWHTvM",
        "colab_type": "code",
        "colab": {}
      },
      "cell_type": "code",
      "source": [
        "option1 = VanillaOption(otype = -1, strike = 110, maturity = 1)\n",
        "gbm1 = Gbm(init_state = 100, drift_ratio = 0.0475, vol_ratio = 0.2)"
      ],
      "execution_count": 0,
      "outputs": []
    },
    {
      "metadata": {
        "id": "HDLnVXvJQkHK",
        "colab_type": "text"
      },
      "cell_type": "markdown",
      "source": [
        "Then we use error function to find the implied volatility of put price 10"
      ]
    },
    {
      "metadata": {
        "id": "93VOYdlfHwgC",
        "colab_type": "code",
        "colab": {}
      },
      "cell_type": "code",
      "source": [
        "'''================\n",
        "define an error function\n",
        "===================='''\n",
        "def error_function(vol, gbm, option):\n",
        "  gbm.vol_ratio = vol\n",
        "  return np.abs(option.market_price - gbm.bsm_price(option))"
      ],
      "execution_count": 0,
      "outputs": []
    },
    {
      "metadata": {
        "id": "Q6uw2bhtH50d",
        "colab_type": "code",
        "colab": {}
      },
      "cell_type": "code",
      "source": [
        "'''==========\n",
        "define a method to seek for an implied volatility\n",
        "============'''\n",
        "\n",
        "def implied_volatility(gbm, option):\n",
        "  init_vol = .1 #initial guess\n",
        "  return so.fmin(error_function, init_vol, \n",
        "                 args = (gbm, option), disp = 0)[0]"
      ],
      "execution_count": 0,
      "outputs": []
    },
    {
      "metadata": {
        "id": "GXoMMMp1H8l1",
        "colab_type": "code",
        "colab": {
          "base_uri": "https://localhost:8080/",
          "height": 34
        },
        "outputId": "771305d9-c6cd-4cae-c9db-cb60ccda50ae"
      },
      "cell_type": "code",
      "source": [
        "option1.market_price = 10\n",
        "\n",
        "print('>>>>>>>>implied volatility is ' + \n",
        "     str(implied_volatility(gbm1, option1)))"
      ],
      "execution_count": 68,
      "outputs": [
        {
          "output_type": "stream",
          "text": [
            ">>>>>>>>implied volatility is 0.17867187500000026\n"
          ],
          "name": "stdout"
        }
      ]
    },
    {
      "metadata": {
        "id": "HLEdp9tILbJQ",
        "colab_type": "text"
      },
      "cell_type": "markdown",
      "source": [
        "So, the implied volatitily when market put price is 10 is 17.87%."
      ]
    }
  ]
}