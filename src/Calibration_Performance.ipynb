{
  "nbformat": 4,
  "nbformat_minor": 0,
  "metadata": {
    "colab": {
      "name": "Calibration_Performance.ipynb",
      "version": "0.3.2",
      "provenance": [],
      "collapsed_sections": [],
      "include_colab_link": true
    },
    "kernelspec": {
      "name": "python3",
      "display_name": "Python 3"
    }
  },
  "cells": [
    {
      "cell_type": "markdown",
      "metadata": {
        "id": "view-in-github",
        "colab_type": "text"
      },
      "source": [
        "<a href=\"https://colab.research.google.com/github/wuchenyu38/18ma573chenyuwu/blob/master/src/Calibration_Performance.ipynb\" target=\"_parent\"><img src=\"https://colab.research.google.com/assets/colab-badge.svg\" alt=\"Open In Colab\"/></a>"
      ]
    },
    {
      "metadata": {
        "id": "VMEgRFsUfF-V",
        "colab_type": "code",
        "colab": {}
      },
      "cell_type": "code",
      "source": [
        "import numpy as np"
      ],
      "execution_count": 0,
      "outputs": []
    },
    {
      "metadata": {
        "id": "5wB3BztEfs_r",
        "colab_type": "code",
        "colab": {
          "base_uri": "https://localhost:8080/",
          "height": 136
        },
        "outputId": "f476a4cb-2fb2-4c39-9ab1-fcd342eddd90"
      },
      "cell_type": "code",
      "source": [
        "!git clone https://github.com/wuchenyu38/18ma573chenyuwu.git #only once"
      ],
      "execution_count": 2,
      "outputs": [
        {
          "output_type": "stream",
          "text": [
            "Cloning into '18ma573chenyuwu'...\n",
            "remote: Enumerating objects: 50, done.\u001b[K\n",
            "remote: Counting objects: 100% (50/50), done.\u001b[K\n",
            "remote: Compressing objects: 100% (50/50), done.\u001b[K\n",
            "remote: Total 253 (delta 15), reused 0 (delta 0), pack-reused 203\u001b[K\n",
            "Receiving objects: 100% (253/253), 310.20 KiB | 8.62 MiB/s, done.\n",
            "Resolving deltas: 100% (80/80), done.\n"
          ],
          "name": "stdout"
        }
      ]
    },
    {
      "metadata": {
        "id": "O9Rk__PNhhmY",
        "colab_type": "code",
        "colab": {
          "base_uri": "https://localhost:8080/",
          "height": 34
        },
        "outputId": "9ef9c1ac-012f-44b1-db0d-ec0766564e74"
      },
      "cell_type": "code",
      "source": [
        "cd /content/18ma573chenyuwu/src/"
      ],
      "execution_count": 3,
      "outputs": [
        {
          "output_type": "stream",
          "text": [
            "/content/18ma573chenyuwu/src\n"
          ],
          "name": "stdout"
        }
      ]
    },
    {
      "metadata": {
        "id": "Ignk-1Suf7Wl",
        "colab_type": "code",
        "colab": {}
      },
      "cell_type": "code",
      "source": [
        "from contract_v01 import VanillaOption\n",
        "from sde_1d_v01 import Sde_1d, Gbm_1d\n",
        "import matplotlib.pyplot as plt\n",
        "import scipy.stats as ss\n",
        "import scipy.optimize as so"
      ],
      "execution_count": 0,
      "outputs": []
    },
    {
      "metadata": {
        "id": "5pFem57H_H1z",
        "colab_type": "text"
      },
      "cell_type": "markdown",
      "source": [
        "Functions Used in Asian Price\n",
        "$$\\hat{\\mu}=\\frac{\\mu}{2}$$\n",
        "$$\\hat{\\sigma}^2=\\frac{\\sigma^2(2m+1)}{6(m+1)}$$\n",
        "$$\\hat{r}=\\hat{\\mu}+\\frac{1}{2}\\hat{\\sigma}^2$$"
      ]
    },
    {
      "metadata": {
        "id": "DrQdpL6b2uPx",
        "colab_type": "code",
        "colab": {}
      },
      "cell_type": "code",
      "source": [
        "def bsm_geometric_asian_price(self, \n",
        "                              otype = 1,\n",
        "                              strike = 110,\n",
        "                              maturity = 1,\n",
        "                              num_step = 4):\n",
        "                              sigma = self.vol_ratio\n",
        "                              S0=self.init_state\n",
        "                              T = maturity\n",
        "                              K = strike\n",
        "                              r = self.drift_ratio\n",
        "                              m = num_step\n",
        "                              mu = r-.5*sigma**2\n",
        "                              mu_hat = .5*mu\n",
        "                              sigma_hat_sq=sigma**2*(2*m+1)/(6*(m+1))\n",
        "                              r_hat = mu_hat+.5*sigma_hat_sq\n",
        "                              sigma_hat = np.sqrt(sigma_hat_sq)\n",
        "                              if otype ==1:\n",
        "                                option = VanillaOption(otype = 1, strike = K, maturity= T, market_price=15.)\n",
        "                                return float(np.exp([(r_hat-r)*T])*Gbm_1d(init_state=S0, drift_ratio=r_hat, vol_ratio=sigma_hat).bsm_price(option))\n",
        "                              else:\n",
        "                                option=VanillaOption(otype = -1, strike = K, maturity= T, market_price=15.)\n",
        "                                return float(np.exp([(r_hat-r)*T])*Gbm_1d(init_state=S0, drift_ratio=r_hat, vol_ratio=sigma_hat).bsm_price(option))"
      ],
      "execution_count": 0,
      "outputs": []
    },
    {
      "metadata": {
        "id": "3HJs1g1ZiIAC",
        "colab_type": "code",
        "colab": {
          "base_uri": "https://localhost:8080/",
          "height": 34
        },
        "outputId": "4950667a-4a17-4dcd-de15-8fca66ebff1e"
      },
      "cell_type": "code",
      "source": [
        "Gbm_1d.bsm_geometric_asian_price = bsm_geometric_asian_price\n",
        "gbm1=Gbm_1d(init_state =100, drift_ratio= 0.0475, vol_ratio=0.2)\n",
        "gao1=gbm1.bsm_geometric_asian_price(otype = 1, \n",
        "                                    strike = 110., \n",
        "                                    maturity = 1., \n",
        "                                    num_step = 4.)\n",
        "print('>>>>> geometric call option value is ' + str(gao1))"
      ],
      "execution_count": 25,
      "outputs": [
        {
          "output_type": "stream",
          "text": [
            ">>>>> geometric call option value is 1.607164727431734\n"
          ],
          "name": "stdout"
        }
      ]
    },
    {
      "metadata": {
        "id": "Ja40aW0J-I_A",
        "colab_type": "code",
        "colab": {}
      },
      "cell_type": "code",
      "source": [
        "def erro_function(sigma, strike_list,market_price_list):\n",
        "  erro=0\n",
        "  gbm1 = Gbm_1d(init_state=spot, drift_ratio=rate, vol_ratio=sigma)\n",
        "  for strike, market_price in zip(strike_list,market_price_list):\n",
        "    erro+=(gbm1.bsm_geometric_asian_price(otype=1, strike=strike,maturity=maturity, num_step=8)-market_price)**2\n",
        "  return erro\n",
        "    \n",
        "def calibration_Absm(strike_list,market_price_list):\n",
        "  init_vol=.1\n",
        "  return so.fmin(erro_function, init_vol, args = (strike_list, market_price_list), disp = 0)[0]"
      ],
      "execution_count": 0,
      "outputs": []
    },
    {
      "metadata": {
        "id": "9HCFSWWJivEU",
        "colab_type": "code",
        "colab": {}
      },
      "cell_type": "code",
      "source": [
        "spot = 100\n",
        "rate =.05\n",
        "otype = 1\n",
        "maturity = 2/12\n",
        "num_step = 8\n",
        "strike_list = [97, 99, 101, 103]\n",
        "market_price_list = [3.7925736094875964,\n",
        "                    2.5429985313737244,\n",
        "                    1.6026613800895042,\n",
        "                    0.9366198675047346]\n",
        "calibrated_vol = 0.18109375000000028"
      ],
      "execution_count": 0,
      "outputs": []
    },
    {
      "metadata": {
        "id": "aAw6t_TM-R-Y",
        "colab_type": "code",
        "colab": {
          "base_uri": "https://localhost:8080/",
          "height": 34
        },
        "outputId": "9abc7a15-2506-47f9-ed81-7a59f74ad8f9"
      },
      "cell_type": "code",
      "source": [
        "vol=calibration_Absm(strike_list,market_price_list)\n",
        "print('>>>>>>>>> calibrated vol is '+str(vol))"
      ],
      "execution_count": 33,
      "outputs": [
        {
          "output_type": "stream",
          "text": [
            ">>>>>>>>> calibrated vol is 0.20257812500000033\n"
          ],
          "name": "stdout"
        }
      ]
    },
    {
      "metadata": {
        "id": "fRMBsw4D-Sdm",
        "colab_type": "code",
        "colab": {
          "base_uri": "https://localhost:8080/",
          "height": 119
        },
        "outputId": "2094ec04-d147-4a29-ad0a-e8d6053ac404"
      },
      "cell_type": "code",
      "source": [
        "values=[]\n",
        "gbm1 = Gbm_1d(init_state=spot, drift_ratio=rate, vol_ratio=vol)\n",
        "for strike, market_price in zip(strike_list,market_price_list):\n",
        "  values.append(gbm1.bsm_geometric_asian_price(otype=1, strike=strike,maturity=maturity, num_step=8))\n",
        "print('>>>>>>>>> calibrated price are:\\n ')\n",
        "for value in values:\n",
        "  print(value)"
      ],
      "execution_count": 35,
      "outputs": [
        {
          "output_type": "stream",
          "text": [
            ">>>>>>>>> calibrated price are:\n",
            " \n",
            "3.9397222494782103\n",
            "2.5789391451123804\n",
            "1.545406418873814\n",
            "0.8404502752683524\n"
          ],
          "name": "stdout"
        }
      ]
    },
    {
      "metadata": {
        "id": "I3l28x8T-lJh",
        "colab_type": "code",
        "colab": {
          "base_uri": "https://localhost:8080/",
          "height": 361
        },
        "outputId": "6265cadc-b73c-4c3d-cbc8-84b55ca83f62"
      },
      "cell_type": "code",
      "source": [
        "x_co = strike_list\n",
        "y_co = market_price_list\n",
        "plt.plot(x_co, y_co, 'o', label='market price')\n",
        "\n",
        "y_co = values\n",
        "plt.plot(x_co, y_co, label = 'calib price')\n",
        "\n",
        "plt.ylabel('option price')\n",
        "plt.xlabel('strike with maturity')\n",
        "plt.legend()\n",
        "plt.show()"
      ],
      "execution_count": 36,
      "outputs": [
        {
          "output_type": "display_data",
          "data": {
            "image/png": "[encoded data removed]",
            "text/plain": [
              "<Figure size 576x396 with 1 Axes>"
            ]
          },
          "metadata": {
            "tags": []
          }
        }
      ]
    },
    {
      "metadata": {
        "id": "6z5chnVP-pvb",
        "colab_type": "code",
        "colab": {}
      },
      "cell_type": "code",
      "source": [
        ""
      ],
      "execution_count": 0,
      "outputs": []
    }
  ]
}