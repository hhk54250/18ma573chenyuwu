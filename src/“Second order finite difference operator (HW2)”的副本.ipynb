{
  "nbformat": 4,
  "nbformat_minor": 0,
  "metadata": {
    "colab": {
      "name": "“second_fd_v01.ipynb”的副本",
      "version": "0.3.2",
      "provenance": [],
      "collapsed_sections": [],
      "include_colab_link": true
    },
    "kernelspec": {
      "display_name": "Python 3",
      "language": "python",
      "name": "python3"
    }
  },
  "cells": [
    {
      "cell_type": "markdown",
      "metadata": {
        "id": "view-in-github",
        "colab_type": "text"
      },
      "source": [
        "<a href=\"https://colab.research.google.com/github/wuchenyu38/18ma573chenyuwu/blob/master/src/%E2%80%9CSecond%20order%20finite%20difference%20operator%20(HW2)%E2%80%9D%E7%9A%84%E5%89%AF%E6%9C%AC.ipynb\" target=\"_parent\"><img src=\"https://colab.research.google.com/assets/colab-badge.svg\" alt=\"Open In Colab\"/></a>"
      ]
    },
    {
      "metadata": {
        "id": "DtiBBaaX23Pn",
        "colab_type": "text"
      },
      "cell_type": "markdown",
      "source": [
        "# Abstract\n",
        "- Goal:\n",
        "    - Learn the second order derivative approximation: second order central finite difference\n",
        "    - Understand convergence rate\n"
      ]
    },
    {
      "metadata": {
        "id": "eaFuAupk23Pp",
        "colab_type": "text"
      },
      "cell_type": "markdown",
      "source": [
        "# Problem \n",
        "\n",
        "Let $f(x) = \\sin x$. Plot $f''$ and $\\delta_{-h} \\delta_h f$ with $h = .5$"
      ]
    },
    {
      "metadata": {
        "id": "Qn7LAsBy23Pq",
        "colab_type": "text"
      },
      "cell_type": "markdown",
      "source": [
        "# Anal\n",
        "\n",
        "\n",
        "One of the commonly used FD for $f''$ is the following:\n",
        "$$f''(x) = \\frac{d}{dx} f'(x) \\simeq \\delta_h f'(x) \\simeq \\delta_h \\delta_{-h} f(x).$$\n",
        "If we write it explicitly, then\n",
        "$$f''(x) \\simeq \\frac{f(x+h) - 2 f(x) + f(x-h)}{h^2}.$$"
      ]
    },
    {
      "metadata": {
        "id": "ks7RwCHn23Pq",
        "colab_type": "text"
      },
      "cell_type": "markdown",
      "source": [
        "__Prop__\n",
        "\n",
        "The central finite difference for the second order has convergence order $1$.\n",
        "\n",
        "__Proof__ \n",
        "\n",
        "Your input here"
      ]
    },
    {
      "metadata": {
        "id": "hYBOsvtK23Pr",
        "colab_type": "text"
      },
      "cell_type": "markdown",
      "source": [
        "# Code"
      ]
    },
    {
      "metadata": {
        "id": "tRP3QpRj23Pt",
        "colab_type": "code",
        "colab": {}
      },
      "cell_type": "code",
      "source": [
        "import numpy as np\n",
        "import pandas as pd\n",
        "import matplotlib.pyplot as plt"
      ],
      "execution_count": 0,
      "outputs": []
    },
    {
      "metadata": {
        "id": "v8yeDBun23Pw",
        "colab_type": "code",
        "colab": {}
      },
      "cell_type": "code",
      "source": [
        "def sfd(f, x, h):\n",
        "  return(f(x+h)-2*f(x)+f(x-h))/(h*h)\n",
        "    # your input here;\n",
        "    \n"
      ],
      "execution_count": 0,
      "outputs": []
    },
    {
      "metadata": {
        "id": "W6xVrA0w23Px",
        "colab_type": "code",
        "outputId": "5b4d4a8c-858c-4199-d16d-6f0627627729",
        "colab": {
          "base_uri": "https://localhost:8080/",
          "height": 347
        }
      },
      "cell_type": "code",
      "source": [
        "'''\n",
        "Remove all #s below to plot a figure:\n",
        "    x_cod: points at which the derivative to be computed\n",
        "    y_cod: estimated derivative by finite difference\n",
        "'''\n",
        "\n",
        "\n",
        "\n",
        "h = .5\n",
        "x_co = np.linspace(0, 2*np.pi, 100)\n",
        "plt.plot(x_co, - np.sin(x_co), label = '$-sin(x)$');\n",
        "plt.plot(x_co, sfd(np.sin, x_co, h), label = 'sfd');\n",
        "plt.legend();"
      ],
      "execution_count": 0,
      "outputs": [
        {
          "output_type": "display_data",
          "data": {
            "image/png": "[encoded data removed]",
            "text/plain": [
              "<Figure size 576x396 with 1 Axes>"
            ]
          },
          "metadata": {
            "tags": []
          }
        }
      ]
    },
    {
      "metadata": {
        "id": "FZ9dQHFi23P0",
        "colab_type": "text"
      },
      "cell_type": "markdown",
      "source": [
        "plot log-log chart for the demonstration of convergence rate, find convergence order using linear regression."
      ]
    },
    {
      "metadata": {
        "id": "srMngB8UH7Vz",
        "colab_type": "text"
      },
      "cell_type": "markdown",
      "source": [
        "If we have:\n",
        "$$f''(x) \\simeq \\frac{f(x+h) - 2 f(x) + f(x-h)}{h^2}.$$\n",
        "SFD have convergence 1:\n",
        "$$|\\delta_{h}\\delta_{-h}f(x)-f\"(x)|=O(h)\\approx Kh^{+1}$$\n"
      ]
    },
    {
      "metadata": {
        "id": "oiiy4-I023P0",
        "colab_type": "code",
        "outputId": "27c4c30e-b818-4566-aca7-de7a14897faa",
        "colab": {
          "base_uri": "https://localhost:8080/",
          "height": 364
        }
      },
      "cell_type": "code",
      "source": [
        "#your input here\n",
        "x_target = np.pi/5 #target point to be examined\n",
        "y_target = -np.sin(x_target) #exact second derivative value at the target point\n",
        "nn = np.arange(5, 11)#range of x axis\n",
        "hh = 1/np.power(2, nn) #step size change with n\n",
        "err = sfd(np.sin, x_target, hh) - y_target #errors corresponding to each step size\n",
        "yy = np.log2(np.abs(err))\n",
        "plt.plot(nn, yy)"
      ],
      "execution_count": 70,
      "outputs": [
        {
          "output_type": "execute_result",
          "data": {
            "text/plain": [
              "[<matplotlib.lines.Line2D at 0x7f5fa30d5588>]"
            ]
          },
          "metadata": {
            "tags": []
          },
          "execution_count": 70
        },
        {
          "output_type": "display_data",
          "data": {
            "image/png": "[encoded data removed]",
            "text/plain": [
              "<Figure size 576x396 with 1 Axes>"
            ]
          },
          "metadata": {
            "tags": []
          }
        }
      ]
    },
    {
      "metadata": {
        "id": "SGcLXIpJ23P3",
        "colab_type": "code",
        "outputId": "2d0b3aba-ade4-482c-b66d-c607dbcdc916",
        "colab": {
          "base_uri": "https://localhost:8080/",
          "height": 34
        }
      },
      "cell_type": "code",
      "source": [
        "import scipy.stats as ss\n",
        "out = ss.linregress(nn,yy)\n",
        "print('----->>>the convergence order is ' + str(-out[0]))"
      ],
      "execution_count": 71,
      "outputs": [
        {
          "output_type": "stream",
          "text": [
            "----->>>the convergence order is 2.0004852622553226\n"
          ],
          "name": "stdout"
        }
      ]
    },
    {
      "metadata": {
        "id": "Y8i_BCgTVi2o",
        "colab_type": "text"
      },
      "cell_type": "markdown",
      "source": [
        "Central finite difference for the second order has convergence order  2\n",
        "\n"
      ]
    }
  ]
}