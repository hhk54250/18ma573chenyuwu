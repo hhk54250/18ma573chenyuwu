{
  "nbformat": 4,
  "nbformat_minor": 0,
  "metadata": {
    "colab": {
      "name": "Monte_Carlo_Proof.ipynb",
      "version": "0.3.2",
      "provenance": [],
      "collapsed_sections": [],
      "include_colab_link": true
    },
    "kernelspec": {
      "name": "python3",
      "display_name": "Python 3"
    }
  },
  "cells": [
    {
      "cell_type": "markdown",
      "metadata": {
        "id": "view-in-github",
        "colab_type": "text"
      },
      "source": [
        "<a href=\"https://colab.research.google.com/github/wuchenyu38/18ma573chenyuwu/blob/master/src/Monte_Carlo_Proof.ipynb\" target=\"_parent\"><img src=\"https://colab.research.google.com/assets/colab-badge.svg\" alt=\"Open In Colab\"/></a>"
      ]
    },
    {
      "metadata": {
        "id": "_kNrAAyk6_Ln",
        "colab_type": "text"
      },
      "cell_type": "markdown",
      "source": [
        "1.Prove $\\beta_N$ is biased, which means $E(\\beta_N)\\ne Var(\\alpha_1)$\n",
        "\n",
        "$$\n",
        "E[\\beta_N]=E[\\frac{1}{N}\\sum{(\\alpha_i-\\bar{\\alpha})^2}=E[\\frac{1}{N}\\sum{((\\alpha_i-\\mu)-(\\bar{\\alpha}-\\mu))^2}]\n",
        "$$\n",
        "\n",
        "$$\n",
        "E[\\frac{1}{N}\\sum{(\\alpha_i-\\mu)^2}-\\frac{2}{N}(\\bar{\\alpha}-\\mu)\\sum{(\\alpha_i-\\mu)+\\frac{1}{N}(\\bar{\\alpha}-\\mu)^2}N]\n",
        "$$\n",
        "\n",
        "$$\n",
        "E(\\beta_N)=\\frac{n-1}{n}\\sigma^2=\\frac{n-1}{n}Var{(\\alpha_1)}\n",
        "$$\n",
        "So, the $\\beta_N$ is biased."
      ]
    },
    {
      "metadata": {
        "id": "ZCPmc1bq8dMG",
        "colab_type": "text"
      },
      "cell_type": "markdown",
      "source": [
        "2. Prove that $\\beta_N$ is consistent with $L^2$\n"
      ]
    },
    {
      "metadata": {
        "id": "VtuLiPz5KjhX",
        "colab_type": "text"
      },
      "cell_type": "markdown",
      "source": [
        "In order to prove the consistency of $\\beta_N$, \n",
        "we want to show that:$ E(\\beta_N-E[\\beta_N])^2=0$ AS N->$\\infty$ and $\\beta_N$ here can be expressed as $(\\alpha_i-E[\\alpha_i]-(\\bar{\\alpha}-E(\\bar{\\alpha})))^2$"
      ]
    },
    {
      "metadata": {
        "id": "_MVdZJjPTMEO",
        "colab_type": "text"
      },
      "cell_type": "markdown",
      "source": [
        "$$\n",
        "E[(\\beta_N-E[\\beta_N])^2]=E(\\frac{1}{N}\\sum{(\\alpha_i-\\bar{\\alpha})^2-E[\\beta_N]^2})\n",
        "$$"
      ]
    },
    {
      "metadata": {
        "id": "LBtHwhbXUPlp",
        "colab_type": "text"
      },
      "cell_type": "markdown",
      "source": [
        "3. for Unbiased estimator, basically we just need to replace $\\frac{1}{N}$ with $\\frac{1}{N-1}$\n",
        "So, we can have:\n",
        "$$\n",
        "E[\\beta_N]=\\frac{N-1}{N-1}\\sigma^2=Var[\\alpha_1]\n",
        "$$"
      ]
    },
    {
      "metadata": {
        "id": "3SuWYrw-TL0m",
        "colab_type": "code",
        "colab": {}
      },
      "cell_type": "code",
      "source": [
        ""
      ],
      "execution_count": 0,
      "outputs": []
    },
    {
      "metadata": {
        "id": "vsv43QT46-Mm",
        "colab_type": "code",
        "colab": {}
      },
      "cell_type": "code",
      "source": [
        ""
      ],
      "execution_count": 0,
      "outputs": []
    }
  ]
}