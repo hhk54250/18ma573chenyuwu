{
  "nbformat": 4,
  "nbformat_minor": 0,
  "metadata": {
    "colab": {
      "name": "Monte_Carlo_Proof.ipynb",
      "version": "0.3.2",
      "provenance": [],
      "collapsed_sections": [],
      "include_colab_link": true
    },
    "kernelspec": {
      "name": "python3",
      "display_name": "Python 3"
    }
  },
  "cells": [
    {
      "cell_type": "markdown",
      "metadata": {
        "id": "view-in-github",
        "colab_type": "text"
      },
      "source": [
        "<a href=\"https://colab.research.google.com/github/wuchenyu38/18ma573chenyuwu/blob/master/src/Monte_Carlo_Proof.ipynb\" target=\"_parent\"><img src=\"https://colab.research.google.com/assets/colab-badge.svg\" alt=\"Open In Colab\"/></a>"
      ]
    },
    {
      "metadata": {
        "id": "_kNrAAyk6_Ln",
        "colab_type": "text"
      },
      "cell_type": "markdown",
      "source": [
        "1.Prove $\\beta_N$ is biased, which means $E(\\beta_N)\\ne Var(\\alpha_1)$\n",
        "\n",
        "$$\n",
        "E[\\beta_N]=E[\\frac{1}{N}\\sum{(\\alpha_i-\\bar{\\alpha})^2}=E[\\frac{1}{N}\\sum{((\\alpha_i-\\mu)-(\\bar{\\alpha}-\\mu))^2}]\n",
        "$$\n",
        "\n",
        "$$\n",
        "E[\\frac{1}{N}\\sum{(\\alpha_i-\\mu)^2}-\\frac{2}{N}(\\bar{\\alpha}-\\mu)\\sum{(\\alpha_i-\\mu)+\\frac{1}{N}(\\bar{\\alpha}-\\mu)^2}N]\n",
        "$$\n",
        "\n",
        "We have:\n",
        "$$\n",
        "\\bar{\\alpha}-\\mu=\\frac{1}{N}\\sum{\\alpha_i}-\\frac{1}{N}\\sum{\\mu}\n",
        "=\\frac{1}{N}\\sum{\\alpha_i-\\mu}\n",
        "$$\n",
        "\n",
        "By simplification:\n",
        "\n",
        "$$\n",
        "E(\\beta_N)=\\sigma^2-\\frac{1}{n}\\sigma^2=\\frac{n-1}{n}Var{(\\alpha_1)}\n",
        "$$\n",
        "So, the $\\beta_N$ is biased."
      ]
    },
    {
      "metadata": {
        "id": "ZCPmc1bq8dMG",
        "colab_type": "text"
      },
      "cell_type": "markdown",
      "source": [
        "2. Prove that $\\beta_N$ is consistent with $L^2$\n"
      ]
    },
    {
      "metadata": {
        "id": "VtuLiPz5KjhX",
        "colab_type": "text"
      },
      "cell_type": "markdown",
      "source": [
        "In order to prove the consistency of $\\beta_N$, \n",
        "we want to show that MSE of $\\beta_N$ goes to zero as N goes to $\\infty$\n",
        "\n",
        "Here we have: $MSE=|Bias(\\beta_N)|^2+Var(\\beta_N)$\n",
        "\n",
        "From proof above, we can conclude the first term of RHS goes to zero as N goes to $\\infty$\n",
        "\n",
        "Here we want to compute the $Var(\\beta_N)$ term\n",
        "\n",
        "$$\n",
        "Var(\\beta_N)=E(\\beta_N^2)-E(\\beta_N)^2\n",
        "$$\n",
        "\n",
        "Use the method introduced from wolfram:\n",
        "$$\n",
        "Var(s^2)=<s^4>-<s^2>^2=\\frac{(N-1)[(N-1)\\mu_4-(N-3)\\mu^2_2]}{N^3}\n",
        "$$\n",
        "\n",
        "Here we can find if $\\mu_4$ here belongs to $L^4$, we can conclude as N goes to $\\infty$, the value of $Var(\\beta_N)$ goes to zero.\n",
        "\n",
        "In this case, $\\beta_N$ is consistent with $L^2$"
      ]
    },
    {
      "metadata": {
        "id": "_MVdZJjPTMEO",
        "colab_type": "text"
      },
      "cell_type": "markdown",
      "source": [
        "$$\n",
        "E[(\\beta_N-E[\\beta_N])^2]=E(\\frac{1}{N}\\sum{(\\alpha_i-\\bar{\\alpha})^2-E[\\beta_N]^2})\n",
        "$$\n"
      ]
    },
    {
      "metadata": {
        "id": "LBtHwhbXUPlp",
        "colab_type": "text"
      },
      "cell_type": "markdown",
      "source": [
        "3. for Unbiased estimator, basically we just need to replace $\\frac{1}{N}$ with $\\frac{1}{N-1}$\n",
        "So, we can have:\n",
        "$$\n",
        "E[\\beta_N]=\\frac{N-1}{N-1}\\sigma^2=Var[\\alpha_1]\n",
        "$$"
      ]
    },
    {
      "metadata": {
        "id": "Ny5mS-BTokO-",
        "colab_type": "text"
      },
      "cell_type": "markdown",
      "source": [
        "Proof:\n",
        "$$\n",
        "E(\\beta_N)=\\frac{1}{N-1}E[\\sum{(\\alpha_i-E(\\alpha_1))^2}-N(E[\\alpha_1]-\\bar{\\alpha})^2]\n",
        "$$\n",
        "\n",
        "$$\n",
        "\\frac{1}{N-1}\\sum{Var(\\alpha_i)}-\\frac{N}{N-1}Var(\\bar{\\alpha})=Var(\\alpha_1)\n",
        "$$"
      ]
    }
  ]
}