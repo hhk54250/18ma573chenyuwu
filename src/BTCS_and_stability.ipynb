{
  "nbformat": 4,
  "nbformat_minor": 0,
  "metadata": {
    "colab": {
      "name": "BTCS and stability.ipynb",
      "version": "0.3.2",
      "provenance": [],
      "collapsed_sections": [],
      "include_colab_link": true
    },
    "kernelspec": {
      "name": "python3",
      "display_name": "Python 3"
    }
  },
  "cells": [
    {
      "cell_type": "markdown",
      "metadata": {
        "id": "view-in-github",
        "colab_type": "text"
      },
      "source": [
        "<a href=\"https://colab.research.google.com/github/wuchenyu38/18ma573chenyuwu/blob/master/src/BTCS_and_stability.ipynb\" target=\"_parent\"><img src=\"https://colab.research.google.com/assets/colab-badge.svg\" alt=\"Open In Colab\"/></a>"
      ]
    },
    {
      "metadata": {
        "id": "0weBs8EYdD7m",
        "colab_type": "code",
        "colab": {}
      },
      "cell_type": "code",
      "source": [
        "import numpy as np\n",
        "import matplotlib.pyplot as plt"
      ],
      "execution_count": 0,
      "outputs": []
    },
    {
      "metadata": {
        "id": "Y5EwpzIldOB-",
        "colab_type": "code",
        "colab": {}
      },
      "cell_type": "code",
      "source": [
        "# other parameters\n",
        "al = 1\n",
        "dx = .2 #space mesh size\n",
        "rho = 1. #conditinal number, to be less than .5 for the stability\n",
        "dt = rho*(dx**2)/al #time step size"
      ],
      "execution_count": 0,
      "outputs": []
    },
    {
      "metadata": {
        "id": "OzfGMovCdP7F",
        "colab_type": "code",
        "colab": {}
      },
      "cell_type": "code",
      "source": [
        "def init(x):\n",
        "  return np.sin(np.pi*x)"
      ],
      "execution_count": 0,
      "outputs": []
    },
    {
      "metadata": {
        "id": "prwW0O0Bdipt",
        "colab_type": "code",
        "colab": {}
      },
      "cell_type": "code",
      "source": [
        "def exact(x, t):\n",
        "  return np.exp(-np.pi**2*t)*np.sin(np.pi*x)"
      ],
      "execution_count": 0,
      "outputs": []
    },
    {
      "metadata": {
        "id": "0gcRrQgLds3J",
        "colab_type": "code",
        "colab": {}
      },
      "cell_type": "code",
      "source": [
        "def ftcs(a,b,nt,dx,dt,rho):\n",
        "  nx = int((b-a)/dx)\n",
        "  u = np.zeros((nt,nx))\n",
        "  \n",
        "  for x in range(0,nx):\n",
        "    u[0][x] = init(a+x*dx)\n",
        "    \n",
        "  for t in range(0,nt-1):\n",
        "    for x in range(1,nx-1):\n",
        "      u[t+1][x] = rho*(u[t][x-1]) + (1-2*rho)*(u[t][x]) + rho*(u[t][x+1])\n",
        "      \n",
        "      \n",
        "  return u"
      ],
      "execution_count": 0,
      "outputs": []
    },
    {
      "metadata": {
        "id": "di3T1Yardx_1",
        "colab_type": "code",
        "colab": {}
      },
      "cell_type": "code",
      "source": [
        "ftcs_sol = ftcs(0,1,200,dx,dt,rho)\n"
      ],
      "execution_count": 0,
      "outputs": []
    },
    {
      "metadata": {
        "id": "DIJqV1Zud0ed",
        "colab_type": "code",
        "colab": {}
      },
      "cell_type": "code",
      "source": [
        "def error(a,b,nt,dx,dt,sol):\n",
        "  nx = int((b-a)/dx)\n",
        "  e = np.zeros((nt,nx))\n",
        "  \n",
        "  for t in range(nt):\n",
        "    for x in range(nx):\n",
        "      e[t][x] = np.abs(sol[t][x]-exact(a+x*dx,t*dt))\n",
        "  return e"
      ],
      "execution_count": 0,
      "outputs": []
    },
    {
      "metadata": {
        "id": "dq-EQ1Sid4VA",
        "colab_type": "code",
        "colab": {
          "base_uri": "https://localhost:8080/",
          "height": 34
        },
        "outputId": "724d30ef-1f96-41de-8b98-0341847d11e5"
      },
      "cell_type": "code",
      "source": [
        "err = error(0, 1, 200, dx, dt, ftcs_sol)\n",
        "superr = np.max(err)\n",
        "print('the supnorm of error function is ' + str(superr))"
      ],
      "execution_count": 10,
      "outputs": [
        {
          "output_type": "stream",
          "text": [
            "the supnorm of error function is 2.609198345490077e+74\n"
          ],
          "name": "stdout"
        }
      ]
    },
    {
      "metadata": {
        "id": "pUX2KvMDd7pR",
        "colab_type": "code",
        "colab": {
          "base_uri": "https://localhost:8080/",
          "height": 412
        },
        "outputId": "8d6b0a4f-5f18-4a04-ec89-fd68fd0202d8"
      },
      "cell_type": "code",
      "source": [
        "xx = np.arange(0,1,.2)\n",
        "print(xx)\n",
        "error1 = np.zeros(5)\n",
        "for i in range(len(error1)):\n",
        "  error1[i] = exact(xx[i], 1.92) - ftcs_sol[int(1.92/dt)][i]\n",
        "print(error1)\n",
        "error2 = np.zeros(5)\n",
        "for i in range(len(error2)):\n",
        "  error2[i] = exact(xx[i], 1.96) - ftcs_sol[int(1.96/dt)][i]\n",
        "print(error2)\n",
        "error3 = np.zeros(5)\n",
        "for i in range(len(error3)):\n",
        "  error3[i] = exact(xx[i], 2.00) - ftcs_sol[int(2.00/dt)][i]\n",
        "print(error3)\n",
        "plt.plot(xx,error1)\n",
        "plt.plot(xx,error2)\n",
        "plt.plot(xx,error3)"
      ],
      "execution_count": 11,
      "outputs": [
        {
          "output_type": "stream",
          "text": [
            "[0.  0.2 0.4 0.6 0.8]\n",
            "[ 0.00000000e+00 -1.21363453e+16  1.71633842e+16 -1.21363453e+16\n",
            "  3.46333422e-09]\n",
            "[ 0.00000000e+00  2.92997295e+16 -4.14360748e+16  2.92997295e+16\n",
            "  2.33368274e-09]\n",
            "[ 0.00000000e+00 -7.07358043e+16  1.00035534e+17 -7.07358043e+16\n",
            "  1.57249483e-09]\n"
          ],
          "name": "stdout"
        },
        {
          "output_type": "execute_result",
          "data": {
            "text/plain": [
              "[<matplotlib.lines.Line2D at 0x7f85a2bc3dd8>]"
            ]
          },
          "metadata": {
            "tags": []
          },
          "execution_count": 11
        },
        {
          "output_type": "display_data",
          "data": {
            "image/png": "[encoded data removed]",
            "text/plain": [
              "<Figure size 432x288 with 1 Axes>"
            ]
          },
          "metadata": {
            "tags": []
          }
        }
      ]
    },
    {
      "metadata": {
        "id": "l6at0Cgueof7",
        "colab_type": "code",
        "colab": {}
      },
      "cell_type": "code",
      "source": [
        "def btcs(a, b, nt, dx, dt, rho):\n",
        "  nx = int((b-a)/dx)\n",
        "  u = np.zeros((nt,nx))\n",
        "  \n",
        "  ld = np.repeat(-rho,nx-1)#lower diag\n",
        "  md = np.repeat(1+2*rho,nx)#main diag\n",
        "  ud = np.repeat(-rho,nx-1)#upper diag\n",
        "  \n",
        "  A = np.diag(ld, -1) + np.diag(md, 0) + np.diag(ud, 1)#matrix\n",
        "  \n",
        "  for x in range(0,nx):\n",
        "    u[0][x] = init(a+x*dx)\n",
        "  \n",
        "  for t in range(0,nt-1):\n",
        "    u[t+1][:] = np.linalg.inv(A).dot(u[t][:])\n",
        "  \n",
        "  return u"
      ],
      "execution_count": 0,
      "outputs": []
    },
    {
      "metadata": {
        "id": "cklQRwN5jNIr",
        "colab_type": "code",
        "colab": {}
      },
      "cell_type": "code",
      "source": [
        "btcs_sol = btcs(0,1,200,dx,dt,rho)\n"
      ],
      "execution_count": 0,
      "outputs": []
    },
    {
      "metadata": {
        "id": "1eh8t1x2jPT8",
        "colab_type": "code",
        "colab": {
          "base_uri": "https://localhost:8080/",
          "height": 34
        },
        "outputId": "55b62740-9266-49b7-e2f7-abf7c0f8d224"
      },
      "cell_type": "code",
      "source": [
        "err = error(0, 1, 200, dx, dt, btcs_sol)\n",
        "superr = np.max(err)\n",
        "print('the supnorm of error function is ' + str(superr))"
      ],
      "execution_count": 17,
      "outputs": [
        {
          "output_type": "stream",
          "text": [
            "the supnorm of error function is 0.19016094194762306\n"
          ],
          "name": "stdout"
        }
      ]
    },
    {
      "metadata": {
        "id": "JAYQ7uQmjU91",
        "colab_type": "code",
        "colab": {
          "base_uri": "https://localhost:8080/",
          "height": 405
        },
        "outputId": "721b44b2-b430-48b7-a492-a5c1387526ca"
      },
      "cell_type": "code",
      "source": [
        "xx = np.arange(0,1,.2)\n",
        "print(xx)\n",
        "error1 = np.zeros(5)\n",
        "for i in range(len(error1)):\n",
        "  error1[i] = exact(xx[i], 1.92) - btcs_sol[int(1.92/dt)][i]\n",
        "print(error1)\n",
        "error2 = np.zeros(5)\n",
        "for i in range(len(error2)):\n",
        "  error2[i] = exact(xx[i], 1.96) - btcs_sol[int(1.96/dt)][i]\n",
        "print(error2)\n",
        "error3 = np.zeros(5)\n",
        "for i in range(len(error3)):\n",
        "  error3[i] = exact(xx[i], 2.00) - btcs_sol[int(2.00/dt)][i]\n",
        "print(error3)\n",
        "plt.plot(xx,error1)\n",
        "plt.plot(xx,error2)\n",
        "plt.plot(xx,error3)"
      ],
      "execution_count": 19,
      "outputs": [
        {
          "output_type": "stream",
          "text": [
            "[0.  0.2 0.4 0.6 0.8]\n",
            "[-6.12747436e-06 -1.06096336e-05 -1.22493449e-05 -1.06074931e-05\n",
            " -6.12401103e-06]\n",
            "[-4.83258666e-06 -8.36795195e-06 -9.66139735e-06 -8.36650966e-06\n",
            " -4.83025298e-06]\n",
            "[-3.81134094e-06 -6.59986366e-06 -7.62013753e-06 -6.59889180e-06\n",
            " -3.80976844e-06]\n"
          ],
          "name": "stdout"
        },
        {
          "output_type": "execute_result",
          "data": {
            "text/plain": [
              "[<matplotlib.lines.Line2D at 0x7f85a2b08438>]"
            ]
          },
          "metadata": {
            "tags": []
          },
          "execution_count": 19
        },
        {
          "output_type": "display_data",
          "data": {
            "image/png": "[encoded data removed]",
            "text/plain": [
              "<Figure size 432x288 with 1 Axes>"
            ]
          },
          "metadata": {
            "tags": []
          }
        }
      ]
    },
    {
      "metadata": {
        "id": "GZL9b30ZjYbm",
        "colab_type": "code",
        "colab": {}
      },
      "cell_type": "code",
      "source": [
        ""
      ],
      "execution_count": 0,
      "outputs": []
    }
  ]
}