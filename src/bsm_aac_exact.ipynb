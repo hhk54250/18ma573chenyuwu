{
  "nbformat": 4,
  "nbformat_minor": 0,
  "metadata": {
    "colab": {
      "name": "bsm_aac_exact.ipynb",
      "version": "0.3.2",
      "provenance": [],
      "collapsed_sections": [],
      "include_colab_link": true
    },
    "kernelspec": {
      "name": "python3",
      "display_name": "Python 3"
    }
  },
  "cells": [
    {
      "cell_type": "markdown",
      "metadata": {
        "id": "view-in-github",
        "colab_type": "text"
      },
      "source": [
        "<a href=\"https://colab.research.google.com/github/wuchenyu38/18ma573chenyuwu/blob/master/src/bsm_aac_exact.ipynb\" target=\"_parent\"><img src=\"https://colab.research.google.com/assets/colab-badge.svg\" alt=\"Open In Colab\"/></a>"
      ]
    },
    {
      "metadata": {
        "id": "aQCNKKvUd0At",
        "colab_type": "code",
        "outputId": "a918e757-2449-41de-de09-102054e9c34c",
        "colab": {
          "base_uri": "https://localhost:8080/",
          "height": 136
        }
      },
      "cell_type": "code",
      "source": [
        "! git clone https://github.com/wuchenyu38/18ma573chenyuwu.git #only run once"
      ],
      "execution_count": 0,
      "outputs": [
        {
          "output_type": "stream",
          "text": [
            "Cloning into '18ma573chenyuwu'...\n",
            "remote: Enumerating objects: 90, done.\u001b[K\n",
            "remote: Counting objects: 100% (90/90), done.\u001b[K\n",
            "remote: Compressing objects: 100% (90/90), done.\u001b[K\n",
            "remote: Total 293 (delta 27), reused 0 (delta 0), pack-reused 203\u001b[K\n",
            "Receiving objects: 100% (293/293), 415.76 KiB | 12.60 MiB/s, done.\n",
            "Resolving deltas: 100% (92/92), done.\n"
          ],
          "name": "stdout"
        }
      ]
    },
    {
      "metadata": {
        "id": "kydF3Yitd9eq",
        "colab_type": "code",
        "outputId": "46291f79-3a38-4e19-b9a7-cc6542e78323",
        "colab": {
          "base_uri": "https://localhost:8080/",
          "height": 34
        }
      },
      "cell_type": "code",
      "source": [
        "cd 18ma573chenyuwu/src/"
      ],
      "execution_count": 0,
      "outputs": [
        {
          "output_type": "stream",
          "text": [
            "/content/18ma573chenyuwu/src\n"
          ],
          "name": "stdout"
        }
      ]
    },
    {
      "metadata": {
        "id": "g2DftFbPeHjk",
        "colab_type": "code",
        "colab": {}
      },
      "cell_type": "code",
      "source": [
        "import numpy as np\n",
        "import matplotlib.pyplot as plt\n",
        "from BSM import Gbm\n",
        "from BSM import VanillaOption"
      ],
      "execution_count": 0,
      "outputs": []
    },
    {
      "metadata": {
        "id": "RM58NpgYeKqi",
        "colab_type": "code",
        "colab": {}
      },
      "cell_type": "code",
      "source": [
        "S0=100;sigma=.2;r=.0475;K=110.0;T=1.;otype=1;num_step=5;num_path=500"
      ],
      "execution_count": 0,
      "outputs": []
    },
    {
      "metadata": {
        "id": "XatmNceUqmUr",
        "colab_type": "code",
        "colab": {}
      },
      "cell_type": "code",
      "source": [
        "Gbm1=Gbm(init_state=S0,drift_ratio=r,vol_ratio=sigma)\n",
        "\n",
        "arithmetic_asian_price=Gbm.bsm_arithmetic_asian_exact_sample(Gbm1,otype,K,T,num_step,num_path)\n",
        "\n",
        "geometric_asian_price=Gbm.bsm_geometric_asian_price(Gbm1,otype,K,T,num_step)\n",
        "\n",
        "option1=VanillaOption(otype=otype,strike=K,maturity=T)\n",
        "\n",
        "european_option_price=Gbm.bsm_price(Gbm1,option1)"
      ],
      "execution_count": 0,
      "outputs": []
    },
    {
      "metadata": {
        "id": "e27dU3KQeMkO",
        "colab_type": "code",
        "outputId": "6be1d680-781b-4eb7-f0d0-f8a6fd01bf33",
        "colab": {
          "base_uri": "https://localhost:8080/",
          "height": 68
        }
      },
      "cell_type": "code",
      "source": [
        "print('european option price=',european_option_price)\n",
        "print('arithmetic asian option price=',arithmetic_asian_price)\n",
        "print('geometric asian option price=',geometric_asian_price)"
      ],
      "execution_count": 0,
      "outputs": [
        {
          "output_type": "stream",
          "text": [
            "european option price= 5.943273183452838\n",
            "arithmetic asian option price= 3.464808098329472\n",
            "geometric asian option price= 1.6421227433993888\n"
          ],
          "name": "stdout"
        }
      ]
    },
    {
      "metadata": {
        "id": "U3yM2TN8ea1r",
        "colab_type": "text"
      },
      "cell_type": "markdown",
      "source": [
        "Comment: geometric asian option price$\\le$arithmetic asian option price$\\le$european option price"
      ]
    }
  ]
}