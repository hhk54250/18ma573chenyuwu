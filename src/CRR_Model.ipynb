{
  "nbformat": 4,
  "nbformat_minor": 0,
  "metadata": {
    "colab": {
      "name": "CRR Model.ipynb",
      "version": "0.3.2",
      "provenance": [],
      "collapsed_sections": [],
      "include_colab_link": true
    },
    "kernelspec": {
      "name": "python3",
      "display_name": "Python 3"
    }
  },
  "cells": [
    {
      "cell_type": "markdown",
      "metadata": {
        "id": "view-in-github",
        "colab_type": "text"
      },
      "source": [
        "<a href=\"https://colab.research.google.com/github/wuchenyu38/18ma573chenyuwu/blob/master/src/CRR_Model.ipynb\" target=\"_parent\"><img src=\"https://colab.research.google.com/assets/colab-badge.svg\" alt=\"Open In Colab\"/></a>"
      ]
    },
    {
      "metadata": {
        "id": "ly48BlO6CwvX",
        "colab_type": "code",
        "colab": {}
      },
      "cell_type": "code",
      "source": [
        "import numpy as np\n",
        "import matplotlib.pyplot as plt"
      ],
      "execution_count": 0,
      "outputs": []
    },
    {
      "metadata": {
        "id": "lUVK1Vc9A8nS",
        "colab_type": "code",
        "colab": {
          "base_uri": "https://localhost:8080/",
          "height": 102
        },
        "outputId": "5ca4c4f1-f8fe-4f73-e5eb-69c281163c38"
      },
      "cell_type": "code",
      "source": [
        "!git clone https://github.com/wuchenyu38/18ma573chenyuwu.git #only run once"
      ],
      "execution_count": 11,
      "outputs": [
        {
          "output_type": "stream",
          "text": [
            "Cloning into '18ma573chenyuwu'...\n",
            "remote: Enumerating objects: 382, done.\u001b[K\n",
            "Receiving objects:   0% (1/382)   \rReceiving objects:   1% (4/382)   \rReceiving objects:   2% (8/382)   \rReceiving objects:   3% (12/382)   \rReceiving objects:   4% (16/382)   \rReceiving objects:   5% (20/382)   \rReceiving objects:   6% (23/382)   \rReceiving objects:   7% (27/382)   \rReceiving objects:   8% (31/382)   \rReceiving objects:   9% (35/382)   \rReceiving objects:  10% (39/382)   \rReceiving objects:  11% (43/382)   \rReceiving objects:  12% (46/382)   \rReceiving objects:  13% (50/382)   \rReceiving objects:  14% (54/382)   \rReceiving objects:  15% (58/382)   \rReceiving objects:  16% (62/382)   \rReceiving objects:  17% (65/382)   \rReceiving objects:  18% (69/382)   \rReceiving objects:  19% (73/382)   \rReceiving objects:  20% (77/382)   \rReceiving objects:  21% (81/382)   \rReceiving objects:  22% (85/382)   \rReceiving objects:  23% (88/382)   \rReceiving objects:  24% (92/382)   \rReceiving objects:  25% (96/382)   \rReceiving objects:  26% (100/382)   \rReceiving objects:  27% (104/382)   \rReceiving objects:  28% (107/382)   \rReceiving objects:  29% (111/382)   \rReceiving objects:  30% (115/382)   \rReceiving objects:  31% (119/382)   \rReceiving objects:  32% (123/382)   \rReceiving objects:  33% (127/382)   \rReceiving objects:  34% (130/382)   \rReceiving objects:  35% (134/382)   \rReceiving objects:  36% (138/382)   \rReceiving objects:  37% (142/382)   \rReceiving objects:  38% (146/382)   \rReceiving objects:  39% (149/382)   \rReceiving objects:  40% (153/382)   \rReceiving objects:  41% (157/382)   \rReceiving objects:  42% (161/382)   \rReceiving objects:  43% (165/382)   \rReceiving objects:  44% (169/382)   \rReceiving objects:  45% (172/382)   \rReceiving objects:  46% (176/382)   \rReceiving objects:  47% (180/382)   \rReceiving objects:  48% (184/382)   \rReceiving objects:  49% (188/382)   \rReceiving objects:  50% (191/382)   \rReceiving objects:  51% (195/382)   \rReceiving objects:  52% (199/382)   \rReceiving objects:  53% (203/382)   \rReceiving objects:  54% (207/382)   \rReceiving objects:  55% (211/382)   \rReceiving objects:  56% (214/382)   \rReceiving objects:  57% (218/382)   \rReceiving objects:  58% (222/382)   \rReceiving objects:  59% (226/382)   \rReceiving objects:  60% (230/382)   \rReceiving objects:  61% (234/382)   \rReceiving objects:  62% (237/382)   \rReceiving objects:  63% (241/382)   \rReceiving objects:  64% (245/382)   \rReceiving objects:  65% (249/382)   \rReceiving objects:  66% (253/382)   \rReceiving objects:  67% (256/382)   \rReceiving objects:  68% (260/382)   \rReceiving objects:  69% (264/382)   \rReceiving objects:  70% (268/382)   \rReceiving objects:  71% (272/382)   \rReceiving objects:  72% (276/382)   \rremote: Total 382 (delta 0), reused 0 (delta 0), pack-reused 382\u001b[K\n",
            "Receiving objects:  73% (279/382)   \rReceiving objects:  74% (283/382)   \rReceiving objects:  75% (287/382)   \rReceiving objects:  76% (291/382)   \rReceiving objects:  77% (295/382)   \rReceiving objects:  78% (298/382)   \rReceiving objects:  79% (302/382)   \rReceiving objects:  80% (306/382)   \rReceiving objects:  81% (310/382)   \rReceiving objects:  82% (314/382)   \rReceiving objects:  83% (318/382)   \rReceiving objects:  84% (321/382)   \rReceiving objects:  85% (325/382)   \rReceiving objects:  86% (329/382)   \rReceiving objects:  87% (333/382)   \rReceiving objects:  88% (337/382)   \rReceiving objects:  89% (340/382)   \rReceiving objects:  90% (344/382)   \rReceiving objects:  91% (348/382)   \rReceiving objects:  92% (352/382)   \rReceiving objects:  93% (356/382)   \rReceiving objects:  94% (360/382)   \rReceiving objects:  95% (363/382)   \rReceiving objects:  96% (367/382)   \rReceiving objects:  97% (371/382)   \rReceiving objects:  98% (375/382)   \rReceiving objects:  99% (379/382)   \rReceiving objects: 100% (382/382)   \rReceiving objects: 100% (382/382), 670.75 KiB | 11.37 MiB/s, done.\n",
            "Resolving deltas:   0% (0/141)   \rResolving deltas:  41% (59/141)   \rResolving deltas:  51% (72/141)   \rResolving deltas:  66% (94/141)   \rResolving deltas:  67% (95/141)   \rResolving deltas:  68% (96/141)   \rResolving deltas:  78% (110/141)   \rResolving deltas:  79% (112/141)   \rResolving deltas:  80% (113/141)   \rResolving deltas:  81% (115/141)   \rResolving deltas:  82% (116/141)   \rResolving deltas:  83% (118/141)   \rResolving deltas:  91% (129/141)   \rResolving deltas:  92% (131/141)   \rResolving deltas:  94% (133/141)   \rResolving deltas:  97% (137/141)   \rResolving deltas:  98% (139/141)   \rResolving deltas: 100% (141/141)   \rResolving deltas: 100% (141/141), done.\n"
          ],
          "name": "stdout"
        }
      ]
    },
    {
      "metadata": {
        "id": "30613WzqBNNy",
        "colab_type": "code",
        "colab": {
          "base_uri": "https://localhost:8080/",
          "height": 34
        },
        "outputId": "23da9e1b-5a43-4c1b-c0a9-ba6da1356381"
      },
      "cell_type": "code",
      "source": [
        "cd /content/18ma573chenyuwu/src/\n"
      ],
      "execution_count": 12,
      "outputs": [
        {
          "output_type": "stream",
          "text": [
            "/content/18ma573chenyuwu/src\n"
          ],
          "name": "stdout"
        }
      ]
    },
    {
      "metadata": {
        "id": "SV4beZEiBSFb",
        "colab_type": "code",
        "colab": {}
      },
      "cell_type": "code",
      "source": [
        "from contract_v01 import VanillaOption\n",
        "from sde_1d_v01 import Sde_1d, Gbm_1d"
      ],
      "execution_count": 0,
      "outputs": []
    },
    {
      "metadata": {
        "id": "6lKihxfABepU",
        "colab_type": "code",
        "colab": {
          "base_uri": "https://localhost:8080/",
          "height": 34
        },
        "outputId": "c499fda1-89bd-465a-c862-5c8116990944"
      },
      "cell_type": "code",
      "source": [
        "otype = 1\n",
        "T = 1\n",
        "K = 100\n",
        "s0 = 100\n",
        "sigma = 0.2\n",
        "r = 0.05\n",
        "\n",
        "gbm_true = Gbm_1d(init_state=s0, drift_ratio = r, vol_ratio = sigma)\n",
        "call_price = gbm_true.bsm_price(VanillaOption(otype,K,T))\n",
        "\n",
        "print(\"True BSM Call Value is \" + str(call_price))"
      ],
      "execution_count": 14,
      "outputs": [
        {
          "output_type": "stream",
          "text": [
            "True BSM Call Value is 10.450583572185565\n"
          ],
          "name": "stdout"
        }
      ]
    },
    {
      "metadata": {
        "id": "5RfMb1_SBnMA",
        "colab_type": "code",
        "colab": {}
      },
      "cell_type": "code",
      "source": [
        "def CRR(r,sigma,S,T,N):\n",
        "  #Define deltas.\n",
        "  dt = T / N\n",
        "  dx = sigma * np.sqrt(dt)\n",
        "  r_hat = r - 0.5*(sigma**2)\n",
        "  p=(sigma + (r_hat*np.sqrt(dt)))/(2*sigma)\n",
        "  \n",
        "  u = np.exp(dx)\n",
        "  d = 1/(u)\n",
        "  \n",
        "  V_prev = np.zeros(N+1)\n",
        "  V_current = np.zeros(N+1)\n",
        "    \n",
        "  for j in range(0,N+1):\n",
        "      V_prev[j] = max(S*(u**j)*(d**(N-j))-K,0)\n",
        "    \n",
        "  i=N\n",
        "  while i>0:        \n",
        "      for j in range(0,i):\n",
        "          V_current[j] = np.exp(-r*dt)*((1-p)*V_prev[j]+p*V_prev[j+1])\n",
        "      i=i-1\n",
        "      V_prev = V_current\n",
        "        \n",
        "  return V_prev[0]"
      ],
      "execution_count": 0,
      "outputs": []
    },
    {
      "metadata": {
        "id": "Gi7Wy6X5BqSO",
        "colab_type": "code",
        "colab": {
          "base_uri": "https://localhost:8080/",
          "height": 34
        },
        "outputId": "c6d43f54-d2bc-4f6f-dadc-145e3f6e35bc"
      },
      "cell_type": "code",
      "source": [
        "o1 = CRR(r,sigma,s0,T,2000)\n",
        "print(\"CRR(N = 2000) is \" + str(o1))"
      ],
      "execution_count": 19,
      "outputs": [
        {
          "output_type": "stream",
          "text": [
            "CRR(N = 2000) is 10.44955246588764\n"
          ],
          "name": "stdout"
        }
      ]
    },
    {
      "metadata": {
        "id": "gMxKM4mKBuau",
        "colab_type": "code",
        "colab": {}
      },
      "cell_type": "code",
      "source": [
        "CRR_20 = np.zeros(50)\n",
        "N_20_vec = np.zeros(50)\n",
        "CRR_25 = np.zeros(50)\n",
        "N_25_vec = np.zeros(50)\n",
        "BSM_price = np.zeros(50)\n",
        "\n",
        "for k in range(50):\n",
        "  CRR_20[k] = CRR(r, sigma, s0, T, 10 + (20*k))\n",
        "  N_20_vec[k] = 10 + (20*k)\n",
        "  CRR_25[k] = CRR(r, sigma, s0, T, 10 + (25*k))\n",
        "  N_25_vec[k] = 10 + (25*k)\n",
        "  BSM_price[k] = call_price"
      ],
      "execution_count": 0,
      "outputs": []
    },
    {
      "metadata": {
        "id": "5XQxgN66B_Cu",
        "colab_type": "code",
        "colab": {
          "base_uri": "https://localhost:8080/",
          "height": 312
        },
        "outputId": "9cd32def-5a26-4e7a-97c0-56ed0704b447"
      },
      "cell_type": "code",
      "source": [
        "plt.figure()\n",
        "plt.plot(N_20_vec,CRR_20,'b',N_25_vec,CRR_25,'g',N_25_vec,BSM_price,'r')\n",
        "plt.xlabel(\"N\")\n",
        "plt.ylabel(\"Value\")\n",
        "plt.title(\"CRR Convergence\")\n",
        "plt.legend([\"10 + 20k\", \"10 + 25k\", \"Actual BSM Price\"])"
      ],
      "execution_count": 18,
      "outputs": [
        {
          "output_type": "execute_result",
          "data": {
            "text/plain": [
              "<matplotlib.legend.Legend at 0x7f73239963c8>"
            ]
          },
          "metadata": {
            "tags": []
          },
          "execution_count": 18
        },
        {
          "output_type": "display_data",
          "data": {
            "image/png": "[encoded data removed]",
            "text/plain": [
              "<Figure size 432x288 with 1 Axes>"
            ]
          },
          "metadata": {
            "tags": []
          }
        }
      ]
    },
    {
      "metadata": {
        "id": "TE73k1pVCCkF",
        "colab_type": "code",
        "colab": {}
      },
      "cell_type": "code",
      "source": [
        ""
      ],
      "execution_count": 0,
      "outputs": []
    }
  ]
}