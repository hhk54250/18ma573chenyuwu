{
  "nbformat": 4,
  "nbformat_minor": 0,
  "metadata": {
    "colab": {
      "name": "Heston Model.ipynb",
      "version": "0.3.2",
      "provenance": [],
      "collapsed_sections": [],
      "include_colab_link": true
    },
    "kernelspec": {
      "name": "python3",
      "display_name": "Python 3"
    }
  },
  "cells": [
    {
      "cell_type": "markdown",
      "metadata": {
        "id": "view-in-github",
        "colab_type": "text"
      },
      "source": [
        "<a href=\"https://colab.research.google.com/github/wuchenyu38/18ma573chenyuwu/blob/master/Heston_Model.ipynb\" target=\"_parent\"><img src=\"https://colab.research.google.com/assets/colab-badge.svg\" alt=\"Open In Colab\"/></a>"
      ]
    },
    {
      "metadata": {
        "id": "DvI-sobuF6eP",
        "colab_type": "code",
        "outputId": "40d47bcf-1454-4d85-ddd1-b01884056e2b",
        "colab": {
          "base_uri": "https://localhost:8080/",
          "height": 136
        }
      },
      "cell_type": "code",
      "source": [
        "!git clone https://github.com/wuchenyu38/18ma573chenyuwu.git"
      ],
      "execution_count": 0,
      "outputs": [
        {
          "output_type": "stream",
          "text": [
            "Cloning into '18ma573chenyuwu'...\n",
            "remote: Enumerating objects: 109, done.\u001b[K\n",
            "remote: Counting objects: 100% (109/109), done.\u001b[K\n",
            "remote: Compressing objects: 100% (109/109), done.\u001b[K\n",
            "remote: Total 312 (delta 35), reused 0 (delta 0), pack-reused 203\u001b[K\n",
            "Receiving objects: 100% (312/312), 420.11 KiB | 10.77 MiB/s, done.\n",
            "Resolving deltas: 100% (100/100), done.\n"
          ],
          "name": "stdout"
        }
      ]
    },
    {
      "metadata": {
        "id": "P5E9fDdYH70R",
        "colab_type": "code",
        "outputId": "cc88e637-50d7-407c-9254-6d3916982568",
        "colab": {
          "base_uri": "https://localhost:8080/",
          "height": 34
        }
      },
      "cell_type": "code",
      "source": [
        "cd 18ma573chenyuwu/src"
      ],
      "execution_count": 0,
      "outputs": [
        {
          "output_type": "stream",
          "text": [
            "/content/18ma573chenyuwu/src\n"
          ],
          "name": "stdout"
        }
      ]
    },
    {
      "metadata": {
        "id": "6-OHVdneIGoq",
        "colab_type": "code",
        "colab": {}
      },
      "cell_type": "code",
      "source": [
        "import numpy as np\n",
        "import matplotlib.pyplot as plt\n",
        "import scipy.integrate as int\n",
        "import BSM as bs"
      ],
      "execution_count": 0,
      "outputs": []
    },
    {
      "metadata": {
        "id": "PKi4yIQBK2WM",
        "colab_type": "text"
      },
      "cell_type": "markdown",
      "source": [
        "Based on the fourier transformation:\n",
        "$$\n",
        "C=S_0I_1-Ke^{-rT}I_2\n",
        "$$\n",
        "$$\n",
        "I_1=\\frac{1}{2}+\\frac{1}{\\pi}\\int_0^{\\infty}Re(\\frac{e^{-iuln(K)}\\phi(u-i)}{iu\\phi(-i)})du\n",
        "$$$$\n",
        "I_2=\\frac{1}{2}+\\frac{1}{\\pi}\\int_0^{\\infty}Re(\\frac{e^{-iuln(K)}\\phi(u)}{iu})du\n",
        "$$"
      ]
    },
    {
      "metadata": {
        "id": "FVTZHTKcR7IQ",
        "colab_type": "text"
      },
      "cell_type": "markdown",
      "source": [
        "$\\kappa = 1.2$; $\\theta = .04$; $\\xi = .3$; $\\rho = .5$; $\\tau = T-t$"
      ]
    },
    {
      "metadata": {
        "id": "gZwaZ9M7OfY5",
        "colab_type": "text"
      },
      "cell_type": "markdown",
      "source": [
        "From Ali Hirsa's Book:\n",
        "$$\n",
        "\\Phi(u)=E(e^{iulnS_t})=\\frac{exp(iulnS_0+iu(r-q)t+\\frac{\\kappa \\theta t(\\kappa-i\\rho\\sigma u)}{\\sigma^2})}{(cosh\\frac{\\gamma t}{2}+\\frac{\\kappa-i\\rho\\sigma u}{\\gamma}sinh\\frac{\\gamma t}{2})^{\\frac{2\\kappa \\theta}{\\sigma ^2}}}exp(\\frac{-(u^2+iu)v_0}{\\gamma coth\\frac{\\gamma t}{2}+\\kappa-i\\rho \\sigma u})\n",
        "$$"
      ]
    },
    {
      "metadata": {
        "id": "7-rolYEtTUkU",
        "colab_type": "text"
      },
      "cell_type": "markdown",
      "source": [
        "$$\n",
        "\\beta = \\kappa - i \\xi \\rho \\sigma\n",
        "\\\\\n",
        "\\gamma =\\sqrt{(\\kappa - i \\xi \\rho \\sigma)^2+\\sigma ^2 (\\xi ^2+i \\xi)}\n",
        "$$"
      ]
    },
    {
      "metadata": {
        "id": "MIYYCl-bWBZZ",
        "colab_type": "text"
      },
      "cell_type": "markdown",
      "source": [
        "$$\n",
        "E_t(e^{iux_T})=\\frac{exp(iulnS_0+iu(r-q)\\tau+\\kappa \\theta \\tau \\frac{\\beta}{\\sigma ^2})exp(\\frac{-(u^2+iu)v_0}{\\gamma coth\\frac{\\gamma \\tau}{2}+\\beta})}{(cosh\\frac{\\gamma \\tau}{2}+\\frac{\\beta}{\\gamma}sinh\\frac{\\gamma \\tau}{2})^{\\frac{2\\kappa \\theta}{\\sigma ^2}}}\n",
        "$$"
      ]
    },
    {
      "metadata": {
        "id": "ZSlViSGXYQOi",
        "colab_type": "text"
      },
      "cell_type": "markdown",
      "source": [
        "$\\gamma = \\sqrt{(\\kappa - i\\xi \\rho u)^2+\\sigma^2 (u^2+ iu)}$\n",
        "</br>\n",
        "$\\beta = \\kappa-i \\xi \\rho u$\n",
        "</br>\n",
        "$\\xi $ is the volatiliy of volatility which is equal to $\\sigma$"
      ]
    },
    {
      "metadata": {
        "id": "tHcboy_XIUfA",
        "colab_type": "code",
        "colab": {}
      },
      "cell_type": "code",
      "source": [
        "kappa = 1.2; theta = .04; xi = .3; rho = .5;"
      ],
      "execution_count": 0,
      "outputs": []
    },
    {
      "metadata": {
        "id": "83Ig7RW6bZ7q",
        "colab_type": "code",
        "colab": {}
      },
      "cell_type": "code",
      "source": [
        "T = 1; s0=100.; v0=.04; r=.05; otype=1; market_price = 15; K =100; "
      ],
      "execution_count": 0,
      "outputs": []
    },
    {
      "metadata": {
        "id": "Bhw8khghIpmz",
        "colab_type": "code",
        "colab": {}
      },
      "cell_type": "code",
      "source": [
        "def Heston(kappa,theta, xi, rho, s0, v0, T, t, r, q, u):\n",
        "  tau= T-t\n",
        "  beta=kappa-1j*xi*rho*u\n",
        "  gamma=np.sqrt((kappa-1j*xi*rho*u)**2+(xi**2)*(u**2+1j*u))\n",
        "  p1=np.exp(1j*u*np.log(s0)+1j*u*(r-q)*tau+kappa*theta*tau*(beta/xi**2))\n",
        "  p2=np.exp(-(u**2+1j*u)*v0/(gamma*(np.cosh(gamma*T/2)/np.sinh(gamma*T/2))+beta))\n",
        "  p3=(np.cosh(gamma*tau/2)+(beta/gamma)*np.sinh(gamma*tau/2))**(2*kappa*theta/xi**2)\n",
        "  return p1*p2/p3"
      ],
      "execution_count": 0,
      "outputs": []
    },
    {
      "metadata": {
        "id": "ixooXTrg5o4x",
        "colab_type": "code",
        "colab": {}
      },
      "cell_type": "code",
      "source": [
        "def Re1(kappa, theta, xi, rho, s0, v0, T, t, r, q, u):\n",
        "  return (np.exp(-1j*u*np.log(K/s0)*u)*Heston(kappa, theta,xi, rho, s0, v0, T, t, r, q, u-1j)/(1j*u*Heston(kappa, theta, xi, rho, s0, v0, T, t, r, q, -1j))).real"
      ],
      "execution_count": 0,
      "outputs": []
    },
    {
      "metadata": {
        "id": "Tz54Or3n_7Eh",
        "colab_type": "code",
        "colab": {}
      },
      "cell_type": "code",
      "source": [
        "def Re2(kappa, theta, xi, rho, s0, v0, T, t, r, q, u):\n",
        "  return (np.exp(-1j*np.log(K/s0)*u)*Heston(kappa, theta, xi, rho, s0, v0, T, t, r, q, u)/(1j*u)).real"
      ],
      "execution_count": 0,
      "outputs": []
    },
    {
      "metadata": {
        "id": "Aq1i0Z8OAHPh",
        "colab_type": "code",
        "outputId": "04bb0ec6-a06c-4065-a44d-65df5078ec65",
        "colab": {
          "base_uri": "https://localhost:8080/",
          "height": 34
        }
      },
      "cell_type": "code",
      "source": [
        "I1=1/2+(1/np.pi)*int.quad(lambda u: Re1(kappa, theta, xi, rho, s0, v0, T, 0, r, 0, u),0,5000)[0]\n",
        "I2=1/2+(1/np.pi)*int.quad(lambda u: Re2(kappa, theta, xi, rho, s0, v0, T, 0, r, 0, u),0,5000)[0]\n",
        "\n",
        "C=(s0*I1)-(K*(np.exp(-1*r*T))*I2)\n",
        "print(\"Price = \" + str(C))"
      ],
      "execution_count": 0,
      "outputs": [
        {
          "output_type": "stream",
          "text": [
            "Price = 4.877057551096641\n"
          ],
          "name": "stdout"
        }
      ]
    },
    {
      "metadata": {
        "id": "lqfHTnziFCIM",
        "colab_type": "text"
      },
      "cell_type": "markdown",
      "source": [
        "Problem: Integration breaks after 5000"
      ]
    }
  ]
}
