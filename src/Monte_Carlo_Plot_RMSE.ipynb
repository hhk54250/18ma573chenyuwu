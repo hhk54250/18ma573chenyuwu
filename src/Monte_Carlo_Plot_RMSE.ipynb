{
  "nbformat": 4,
  "nbformat_minor": 0,
  "metadata": {
    "colab": {
      "name": "Monte_Carlo_Plot_RMSE.ipynb",
      "version": "0.3.2",
      "provenance": [],
      "collapsed_sections": [],
      "include_colab_link": true
    },
    "kernelspec": {
      "name": "python3",
      "display_name": "Python 3"
    }
  },
  "cells": [
    {
      "cell_type": "markdown",
      "metadata": {
        "id": "view-in-github",
        "colab_type": "text"
      },
      "source": [
        "<a href=\"https://colab.research.google.com/github/wuchenyu38/18ma573chenyuwu/blob/master/src/Monte_Carlo_Plot_RMSE.ipynb\" target=\"_parent\"><img src=\"https://colab.research.google.com/assets/colab-badge.svg\" alt=\"Open In Colab\"/></a>"
      ]
    },
    {
      "metadata": {
        "id": "eYlXTqitY-iX",
        "colab_type": "text"
      },
      "cell_type": "markdown",
      "source": [
        "Use Monte Carlo Method to estimate $\\pi$"
      ]
    },
    {
      "metadata": {
        "id": "Vdnhbxn5Yym1",
        "colab_type": "code",
        "colab": {}
      },
      "cell_type": "code",
      "source": [
        "import numpy as np\n",
        "import matplotlib.pyplot as plt\n",
        "import scipy.stats as ss"
      ],
      "execution_count": 0,
      "outputs": []
    },
    {
      "metadata": {
        "id": "WzJzaYLyZSjo",
        "colab_type": "code",
        "colab": {}
      },
      "cell_type": "code",
      "source": [
        "# We define a point class\n",
        "\n",
        "'''\n",
        "x: the x value of point\n",
        "\n",
        "y: the y value of point\n",
        "\n",
        "'''\n",
        "#------------------------------------\n",
        "class point:\n",
        "  def __init__(self, x, y):\n",
        "    self.x=x\n",
        "    self.y=y\n",
        "    self.r=np.sqrt(self.x**2+self.y**2)\n",
        "    self.mc=0\n",
        "\n",
        "\n",
        "#define function generte that will generate N points and return its pointer\n",
        "\n",
        "def generate(N):\n",
        "  points=[]\n",
        "  for _ in range(N):\n",
        "    p=point(np.random.uniform(0,1), np.random.uniform(0,1)) #generate random points with x, y between 0 and 1.\n",
        "    points.append(p)\n",
        "  return points\n",
        "\n",
        "\n",
        "def mc_1(points): #Define the monte carlo method to calculate $\\pi$ \n",
        "  S=0\n",
        "  for p in points:\n",
        "    if p.r**2<=1: #set restraint of radius of circle\n",
        "      p.mc=4\n",
        "      S=S+p.mc\n",
        "    else:\n",
        "      p.mac=0\n",
        "      S=S+p.mc\n",
        "  return S\n",
        "\n",
        "def pi_mc(N,m=100): #define method we use to calculate $\\pi$\n",
        "  results=[]\n",
        "  for _ in range(m):\n",
        "    points=generate(N)\n",
        "    S=mc_1(points)\n",
        "    results.append(S/N)\n",
        "  return results\n",
        "      \n",
        "  "
      ],
      "execution_count": 0,
      "outputs": []
    },
    {
      "metadata": {
        "id": "rIT13w_4b6e6",
        "colab_type": "code",
        "colab": {}
      },
      "cell_type": "code",
      "source": [
        "N=[2**i for i in range (5,11)] #n from 5 to 10\n",
        "Values=[]\n",
        "for n in N:\n",
        "  results=pi_mc(n)\n",
        "  Values.append(np.var(results)) #put all variance value of $2^n in to array values.$"
      ],
      "execution_count": 0,
      "outputs": []
    },
    {
      "metadata": {
        "id": "rhy__tCPkK94",
        "colab_type": "code",
        "colab": {}
      },
      "cell_type": "code",
      "source": [
        "Estimate  = []\n",
        "for n in N:\n",
        "  results=pi_mc(n)\n",
        "  Estimate.append(results) #put all variance value of $2^n in to array values.$\n"
      ],
      "execution_count": 0,
      "outputs": []
    },
    {
      "metadata": {
        "id": "A_FQ9v_AhZcB",
        "colab_type": "code",
        "colab": {}
      },
      "cell_type": "code",
      "source": [
        "pi=[]\n",
        "for _ in range(100):\n",
        "  pi.append(np.pi)\n",
        "\n",
        "def rmse(p, v):\n",
        "  diff = [p[i]-v[i] for i in range(len(p))]\n",
        "  ds = [diff[i]**2 for i in range(len(diff))]\n",
        "  array = np.asarray(ds)\n",
        "  mu = array.mean()\n",
        "  rmse = np.sqrt(mu)\n",
        "  return rmse\n",
        "\n",
        "p=np.asarray(Estimate)\n",
        "\n",
        "v=np.asarray(pi)\n",
        "\n",
        "rmse_value = []\n",
        "for i in range(6):\n",
        "  rmse_value.append(rmse(p[i],v))\n",
        "  "
      ],
      "execution_count": 0,
      "outputs": []
    },
    {
      "metadata": {
        "id": "UyVIkzf_l_KE",
        "colab_type": "code",
        "colab": {
          "base_uri": "https://localhost:8080/",
          "height": 378
        },
        "outputId": "25f667c5-11d4-4ebb-fde7-64d26afd6ef1"
      },
      "cell_type": "code",
      "source": [
        "nn = np.log2(N)\n",
        "yy = np.log2(np.abs(rmse_value))\n",
        "\n",
        "plt.plot(nn,yy,label=\"Log-log plot of RMSE\")\n",
        "plt.xlabel(\"Log(N)\")\n",
        "plt.ylabel(\"Log(RMSE)\")\n",
        "plt.legend()"
      ],
      "execution_count": 138,
      "outputs": [
        {
          "output_type": "execute_result",
          "data": {
            "text/plain": [
              "<matplotlib.legend.Legend at 0x7f03420c86d8>"
            ]
          },
          "metadata": {
            "tags": []
          },
          "execution_count": 138
        },
        {
          "output_type": "display_data",
          "data": {
            "image/png": "[encoded data removed]",
            "text/plain": [
              "<Figure size 576x396 with 1 Axes>"
            ]
          },
          "metadata": {
            "tags": []
          }
        }
      ]
    },
    {
      "metadata": {
        "id": "xd_fxXJBpH1t",
        "colab_type": "code",
        "colab": {
          "base_uri": "https://localhost:8080/",
          "height": 34
        },
        "outputId": "0123c681-b0b5-4e3e-8500-ce0a41b6fa21"
      },
      "cell_type": "code",
      "source": [
        "out = ss.linregress(nn,yy) #RMSE convergence rate\n",
        "print('----->>>the convergence order is ' + str(-out[0]))"
      ],
      "execution_count": 139,
      "outputs": [
        {
          "output_type": "stream",
          "text": [
            "----->>>the convergence order is 0.471769252155248\n"
          ],
          "name": "stdout"
        }
      ]
    },
    {
      "metadata": {
        "id": "Vd3T7xBJsQSj",
        "colab_type": "text"
      },
      "cell_type": "markdown",
      "source": [
        "In order to get a deterministic approximation to $\\pi$, I use the method introduced in lecture that applied polygon inside circle."
      ]
    },
    {
      "metadata": {
        "id": "BMyBzTxMsP03",
        "colab_type": "code",
        "colab": {}
      },
      "cell_type": "code",
      "source": [
        "def poly(N):\n",
        "  theta = (2*np.pi)/N\n",
        "  tri = .5*np.sin(theta)\n",
        "  pred = tri*N\n",
        "  return pred"
      ],
      "execution_count": 0,
      "outputs": []
    },
    {
      "metadata": {
        "id": "y0CQDbVEtHhJ",
        "colab_type": "code",
        "colab": {}
      },
      "cell_type": "code",
      "source": [
        "poly_values=[]\n",
        "for n in N:\n",
        "  results=poly(n)\n",
        "  poly_values.append(results) #put all variance value of $2^n in to array values.$\n",
        " "
      ],
      "execution_count": 0,
      "outputs": []
    },
    {
      "metadata": {
        "id": "IftGUYixtxWG",
        "colab_type": "code",
        "colab": {
          "base_uri": "https://localhost:8080/",
          "height": 54
        },
        "outputId": "931025f4-1e94-41ad-d169-df53586bc242"
      },
      "cell_type": "code",
      "source": [
        "po=np.asarray(poly_values)\n",
        "\n",
        "rmse_poly_value = []\n",
        "\n",
        "def rmse_poly(p, v):\n",
        "  diff = p - v\n",
        "  ds = diff **2\n",
        "  rmse = np.sqrt(ds)\n",
        "  return rmse\n",
        "\n",
        "for i in range(6):\n",
        "  rmse_poly_value.append(rmse_poly(po[i],np.pi))\n",
        "  \n",
        "print(rmse_poly_value)"
      ],
      "execution_count": 142,
      "outputs": [
        {
          "output_type": "stream",
          "text": [
            "[0.020147501331741147, 0.0050441630438538, 0.0012614966350401602, 0.0003154026570202362, 7.885244549221682e-05, 1.971322270177822e-05]\n"
          ],
          "name": "stdout"
        }
      ]
    },
    {
      "metadata": {
        "id": "fxGlBFznvAHi",
        "colab_type": "code",
        "colab": {
          "base_uri": "https://localhost:8080/",
          "height": 378
        },
        "outputId": "e6c4a734-4f2c-4ee1-d3df-b426e5ae4f23"
      },
      "cell_type": "code",
      "source": [
        "plt.plot(N,rmse_poly_value,label=\"Poly approximation\")\n",
        "plt.xlabel(\"N\")\n",
        "plt.ylabel(\"RMSE\")\n",
        "plt.legend()"
      ],
      "execution_count": 143,
      "outputs": [
        {
          "output_type": "execute_result",
          "data": {
            "text/plain": [
              "<matplotlib.legend.Legend at 0x7f0341f012e8>"
            ]
          },
          "metadata": {
            "tags": []
          },
          "execution_count": 143
        },
        {
          "output_type": "display_data",
          "data": {
            "image/png": "[encoded data removed]",
            "text/plain": [
              "<Figure size 576x396 with 1 Axes>"
            ]
          },
          "metadata": {
            "tags": []
          }
        }
      ]
    },
    {
      "metadata": {
        "id": "Prsw_z3LvLG5",
        "colab_type": "code",
        "colab": {
          "base_uri": "https://localhost:8080/",
          "height": 378
        },
        "outputId": "1003981c-25b1-465c-e64d-3710f58671fa"
      },
      "cell_type": "code",
      "source": [
        "yy2 = np.log2(np.abs(rmse_poly_value))\n",
        "plt.plot(nn,yy2,label=\"Log-log plot of Poly_RMSE\")\n",
        "plt.xlabel(\"Log(N)\")\n",
        "plt.ylabel(\"LOG(RMSE)\")\n",
        "plt.legend()"
      ],
      "execution_count": 144,
      "outputs": [
        {
          "output_type": "execute_result",
          "data": {
            "text/plain": [
              "<matplotlib.legend.Legend at 0x7f0341d0a940>"
            ]
          },
          "metadata": {
            "tags": []
          },
          "execution_count": 144
        },
        {
          "output_type": "display_data",
          "data": {
            "image/png": "[encoded data removed]",
            "text/plain": [
              "<Figure size 576x396 with 1 Axes>"
            ]
          },
          "metadata": {
            "tags": []
          }
        }
      ]
    },
    {
      "metadata": {
        "id": "m2UxX0XZvaRA",
        "colab_type": "code",
        "colab": {
          "base_uri": "https://localhost:8080/",
          "height": 34
        },
        "outputId": "40a091bd-e2ef-4f0b-f1b0-d1320629aa4d"
      },
      "cell_type": "code",
      "source": [
        "\n",
        "out2 = ss.linregress(nn,yy2)\n",
        "print('----->>>the convergence order is ' + str(-out2[0]))"
      ],
      "execution_count": 145,
      "outputs": [
        {
          "output_type": "stream",
          "text": [
            "----->>>the convergence order is 1.9995406935466833\n"
          ],
          "name": "stdout"
        }
      ]
    }
  ]
}