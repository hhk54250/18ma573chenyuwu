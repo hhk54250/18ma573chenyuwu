{
  "nbformat": 4,
  "nbformat_minor": 0,
  "metadata": {
    "colab": {
      "name": "Fourier_Method.ipynb",
      "version": "0.3.2",
      "provenance": [],
      "collapsed_sections": [],
      "include_colab_link": true
    },
    "kernelspec": {
      "name": "python3",
      "display_name": "Python 3"
    }
  },
  "cells": [
    {
      "cell_type": "markdown",
      "metadata": {
        "id": "view-in-github",
        "colab_type": "text"
      },
      "source": [
        "<a href=\"https://colab.research.google.com/github/wuchenyu38/18ma573chenyuwu/blob/master/Fourier_Method.ipynb\" target=\"_parent\"><img src=\"https://colab.research.google.com/assets/colab-badge.svg\" alt=\"Open In Colab\"/></a>"
      ]
    },
    {
      "metadata": {
        "id": "q7U99ogLAMEE",
        "colab_type": "code",
        "colab": {}
      },
      "cell_type": "code",
      "source": [
        "s0=100; r= .0475; sigma=  .2; otype = 1; K = 110; T = 1;"
      ],
      "execution_count": 0,
      "outputs": []
    },
    {
      "metadata": {
        "id": "ppkZ0B9DAvXP",
        "colab_type": "code",
        "outputId": "29c057d0-8ee5-47b2-d266-8aba2f123ff4",
        "colab": {
          "base_uri": "https://localhost:8080/",
          "height": 136
        }
      },
      "cell_type": "code",
      "source": [
        "!git clone https://github.com/wuchenyu38/18ma573chenyuwu.git"
      ],
      "execution_count": 0,
      "outputs": [
        {
          "output_type": "stream",
          "text": [
            "Cloning into '18ma573chenyuwu'...\n",
            "remote: Enumerating objects: 109, done.\u001b[K\n",
            "remote: Counting objects: 100% (109/109), done.\u001b[K\n",
            "remote: Compressing objects: 100% (109/109), done.\u001b[K\n",
            "remote: Total 312 (delta 35), reused 0 (delta 0), pack-reused 203\u001b[K\n",
            "Receiving objects: 100% (312/312), 420.11 KiB | 12.00 MiB/s, done.\n",
            "Resolving deltas: 100% (100/100), done.\n"
          ],
          "name": "stdout"
        }
      ]
    },
    {
      "metadata": {
        "id": "i2xtP2kCA3lm",
        "colab_type": "code",
        "outputId": "2d0724d3-c519-4dca-b091-b1a3899a9686",
        "colab": {
          "base_uri": "https://localhost:8080/",
          "height": 34
        }
      },
      "cell_type": "code",
      "source": [
        "cd 18ma573chenyuwu/src"
      ],
      "execution_count": 0,
      "outputs": [
        {
          "output_type": "stream",
          "text": [
            "/content/18ma573chenyuwu/src\n"
          ],
          "name": "stdout"
        }
      ]
    },
    {
      "metadata": {
        "id": "ozus9_YNA7K6",
        "colab_type": "code",
        "colab": {}
      },
      "cell_type": "code",
      "source": [
        "import numpy as np\n",
        "import matplotlib.pyplot as plt\n",
        "import scipy.integrate as int\n",
        "import BSM as bsm"
      ],
      "execution_count": 0,
      "outputs": []
    },
    {
      "metadata": {
        "id": "9uafZYEhAlDL",
        "colab_type": "code",
        "colab": {}
      },
      "cell_type": "code",
      "source": [
        "gbm1=bsm.Gbm(init_state=s0,drift_ratio=r,vol_ratio=sigma)\n",
        "option1 = bsm.VanillaOption(otype=1, strike = K, maturity = T)\n",
        "european_option_price=bsm.Gbm.bsm_price(gbm1,option1)"
      ],
      "execution_count": 0,
      "outputs": []
    },
    {
      "metadata": {
        "id": "8hQv3ePMBiQa",
        "colab_type": "code",
        "outputId": "a92b5e60-36b4-42b1-f436-d179df0e8ee4",
        "colab": {
          "base_uri": "https://localhost:8080/",
          "height": 34
        }
      },
      "cell_type": "code",
      "source": [
        "print ('Price = ', european_option_price)"
      ],
      "execution_count": 0,
      "outputs": [
        {
          "output_type": "stream",
          "text": [
            "Price =  5.943273183452838\n"
          ],
          "name": "stdout"
        }
      ]
    },
    {
      "metadata": {
        "id": "WCo_MJzyB8s7",
        "colab_type": "text"
      },
      "cell_type": "markdown",
      "source": [
        "Based on the reference paper we have:\n",
        "$$\n",
        "C=S_0I_1-Ke^{-rT}I_2\n",
        "$$"
      ]
    },
    {
      "metadata": {
        "id": "Ak7ZhqGCCSZd",
        "colab_type": "text"
      },
      "cell_type": "markdown",
      "source": [
        "$$\n",
        "I_1=\\frac{1}{2}+\\frac{1}{\\pi}\\int_{0}^{\\infty}\\frac{sin(d_1t)}{t}e^{-\\frac{t^2}{2}}dt\n",
        "$$\n",
        "$$\n",
        "d_1=\\frac{log(\\frac{S_0}{K})+(r+\\frac{\\sigma^2}{2})T}{\\sigma \\sqrt{T}}\n",
        "$$"
      ]
    },
    {
      "metadata": {
        "id": "GyXGYpDGDMQF",
        "colab_type": "text"
      },
      "cell_type": "markdown",
      "source": [
        "$$\n",
        "I_2=\\frac{1}{2}+\\frac{1}{\\pi}\\int_{0}^{\\infty}\\frac{sin(d_2t)}{t}e^{-\\frac{t^2}{2}}dt\n",
        "$$\n",
        "$$\n",
        "d_2=\\frac{log(\\frac{S_0}{K})+(r-\\frac{\\sigma^2}{2})T}{\\sigma \\sqrt{T}}\n",
        "$$\n"
      ]
    },
    {
      "metadata": {
        "id": "Cl_3D_DeCRo7",
        "colab_type": "code",
        "colab": {}
      },
      "cell_type": "code",
      "source": [
        "#Calculate I_1\n",
        "d1=(np.log(s0/K)+(r+(sigma**2)/2)*T)/(sigma*np.sqrt(T))\n",
        "I1=(1/2)+(1/np.pi)*int.quad(lambda t: (np.sin(d1*t)/t)*np.exp((-1)*t**2/2),0,np.inf)[0]"
      ],
      "execution_count": 0,
      "outputs": []
    },
    {
      "metadata": {
        "id": "ELEhPFqcAh0X",
        "colab_type": "code",
        "colab": {}
      },
      "cell_type": "code",
      "source": [
        "#Calculate I_2\n",
        "d2=(np.log(s0/K)+(r-(sigma**2)/2)*T)/(sigma*np.sqrt(T))\n",
        "I2=(1/2)+(1/np.pi)*int.quad(lambda t: (np.sin(d2*t)/t)*np.exp((-1)*t**2/2),0,np.inf)[0]"
      ],
      "execution_count": 0,
      "outputs": []
    },
    {
      "metadata": {
        "id": "81FAJb-3FmIQ",
        "colab_type": "code",
        "outputId": "1d48b262-a1a0-48b7-a811-52be99165ac2",
        "colab": {
          "base_uri": "https://localhost:8080/",
          "height": 34
        }
      },
      "cell_type": "code",
      "source": [
        "#Get Price\n",
        "C=(s0*I1)-K*np.exp(-r*T)*I2\n",
        "print('Price =', C)"
      ],
      "execution_count": 0,
      "outputs": [
        {
          "output_type": "stream",
          "text": [
            "Price = 5.943273183452845\n"
          ],
          "name": "stdout"
        }
      ]
    },
    {
      "metadata": {
        "id": "T9TJfU7DFzP9",
        "colab_type": "code",
        "colab": {}
      },
      "cell_type": "code",
      "source": [
        ""
      ],
      "execution_count": 0,
      "outputs": []
    }
  ]
}
