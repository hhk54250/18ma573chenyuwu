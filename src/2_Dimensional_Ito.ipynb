{
  "nbformat": 4,
  "nbformat_minor": 0,
  "metadata": {
    "colab": {
      "name": "2-Dimensional Ito.ipynb",
      "version": "0.3.2",
      "provenance": [],
      "collapsed_sections": [],
      "include_colab_link": true
    },
    "kernelspec": {
      "name": "python3",
      "display_name": "Python 3"
    }
  },
  "cells": [
    {
      "cell_type": "markdown",
      "metadata": {
        "id": "view-in-github",
        "colab_type": "text"
      },
      "source": [
        "<a href=\"https://colab.research.google.com/github/wuchenyu38/18ma573chenyuwu/blob/master/src/2_Dimensional_Ito.ipynb\" target=\"_parent\"><img src=\"https://colab.research.google.com/assets/colab-badge.svg\" alt=\"Open In Colab\"/></a>"
      ]
    },
    {
      "metadata": {
        "id": "XLMYnRUeMqIR",
        "colab_type": "text"
      },
      "cell_type": "markdown",
      "source": [
        "$$\n",
        "dX_{1, t} = b_1dt + \\sigma_{11}dW_{1t}+\\sigma_{12}dW_{2t}\n",
        "\\\\\n",
        "dX_{2, t} = b_2dt + \\sigma_{21}dW_{1t}+\\sigma_{22}dW_{2t}\n",
        "$$"
      ]
    },
    {
      "metadata": {
        "id": "ek3VyFpCM8zP",
        "colab_type": "text"
      },
      "cell_type": "markdown",
      "source": [
        "with ito formula, we can rewrite above equations into:\n",
        "$$df = \\frac{\\partial f}{\\partial x_{1}}(X_{1,t},X_{2,t})dX_{1,t} + \\frac{\\partial f}{\\partial x_{2}}(X_{1,t},X_{2,t})dX_{2,t} + \\frac{1}{2}\\frac{\\partial^{2} f}{\\partial x_{1}^{2}}(X_{1,t},X_{2,t})dX_{1,t}dX_{1,t} + \\frac{1}{2}\\frac{\\partial^{2} f}{\\partial x_{2}^{2}}(X_{1,t},X_{2,t})dX_{2,t}dX_{2,t} + \\frac{\\partial^{2} f}{\\partial x_{1} \\partial x_{2}}(X_{1,t},X_{2,t})dX_{1,t}dX_{2,t}$$"
      ]
    },
    {
      "metadata": {
        "id": "bAScZAU9O2xD",
        "colab_type": "text"
      },
      "cell_type": "markdown",
      "source": [
        "Then we replace $\\frac{\\partial f}{\\partial x_1}$ and $\\frac{\\partial f}{\\partial x_2}$ with $f_1$ and $f_2$ as partial derivative related to $X_1 and X_2$. Similarly we will use $f_{11}$ and $f_{22}$ to represent second derivative respect to $X_1$ and $X_2$. "
      ]
    },
    {
      "metadata": {
        "id": "cZmD8WJYPwfH",
        "colab_type": "text"
      },
      "cell_type": "markdown",
      "source": [
        "So, we have:\n",
        "$$\n",
        "f_1b_1+f_2b_2+\\frac{1}{2}(f_{12}+f_{21})(\\sigma_{11}\\sigma_{21}+\\sigma_{12}\\sigma_{22})+\\frac{1}{2}(f_{11}(\\sigma_{11}^2+\\sigma_{12}^2)+f_{22}(\\sigma_{21}^2+\\sigma_{22}^2))\n",
        "$$"
      ]
    },
    {
      "metadata": {
        "id": "tYyNLR4zRHBi",
        "colab_type": "text"
      },
      "cell_type": "markdown",
      "source": [
        "From Ito formula:\n",
        "$$\n",
        "f(X) = f(X_0)+\\int_0^t \\zeta f(x)ds +\\int_0^tDf(x)\\sigma dW_t\n",
        "$$"
      ]
    },
    {
      "metadata": {
        "id": "LUmFgoX1RsYT",
        "colab_type": "text"
      },
      "cell_type": "markdown",
      "source": [
        "We have:\n",
        "$$\n",
        "f(X_{1,t},X_{2,t}) = f(X_{1,0},X_{2,0}) + \\int_{0}^{t}f_{1}b_{1} + f_{2}b_{2} + \\frac{1}{2}(f_{12}+ f_{21})(\\sigma_{11}\\sigma_{21} + \\sigma_{12}\\sigma_{22}) + \\frac{1}{2}(f_{11}(\\sigma_{11}^{2} + \\sigma_{12}^{2}) + f_{22}(\\sigma_{21}^{2} + \\sigma_{22}^{2}))ds $$\n",
        "\n",
        "$$+ \\int_{0}^{t}f_{1}\\sigma_{11} + f_{2}\\sigma_{21}dW_{1,s} + \\int_{0}^{t}f_{1}\\sigma_{12} + f_{2}\\sigma_{22}dW_{2,s}$$"
      ]
    }
  ]
}