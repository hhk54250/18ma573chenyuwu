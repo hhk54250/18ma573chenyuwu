{
  "nbformat": 4,
  "nbformat_minor": 0,
  "metadata": {
    "colab": {
      "name": "Definite Integral.ipynb",
      "version": "0.3.2",
      "provenance": [],
      "collapsed_sections": [],
      "include_colab_link": true
    },
    "kernelspec": {
      "name": "python3",
      "display_name": "Python 3"
    }
  },
  "cells": [
    {
      "cell_type": "markdown",
      "metadata": {
        "id": "view-in-github",
        "colab_type": "text"
      },
      "source": [
        "<a href=\"https://colab.research.google.com/github/wuchenyu38/18ma573chenyuwu/blob/master/src/Definite_Integral.ipynb\" target=\"_parent\"><img src=\"https://colab.research.google.com/assets/colab-badge.svg\" alt=\"Open In Colab\"/></a>"
      ]
    },
    {
      "metadata": {
        "id": "KUqO0awT3LrQ",
        "colab_type": "code",
        "colab": {}
      },
      "cell_type": "code",
      "source": [
        "import numpy as np\n",
        "import scipy.stats as ss\n",
        "import array as ar\n",
        "import matplotlib.pyplot as plt"
      ],
      "execution_count": 0,
      "outputs": []
    },
    {
      "metadata": {
        "id": "_ectewd73GC2",
        "colab_type": "code",
        "colab": {}
      },
      "cell_type": "code",
      "source": [
        "def omc_integral(n): #define the omc_integral function based on formula given\n",
        "    samp=np.random.rand(n)\n",
        "    list = np.zeros((n,1))\n",
        "    for i in range(n):\n",
        "      if samp[i]<=0.01:\n",
        "        x=samp[i]*100\n",
        "      else:\n",
        "        x=samp[i]\n",
        "      list[i]=x    \n",
        "    avg=np.mean(list)\n",
        "    return(avg)"
      ],
      "execution_count": 0,
      "outputs": []
    },
    {
      "metadata": {
        "id": "GdGnLV43BAJo",
        "colab_type": "code",
        "outputId": "2e7c7af0-9383-483e-803b-b94fd9f303e9",
        "colab": {
          "base_uri": "https://localhost:8080/",
          "height": 34
        }
      },
      "cell_type": "code",
      "source": [
        "test=omc_integral(2^5) #test the function\n",
        "test"
      ],
      "execution_count": 30,
      "outputs": [
        {
          "output_type": "execute_result",
          "data": {
            "text/plain": [
              "0.5219850479577445"
            ]
          },
          "metadata": {
            "tags": []
          },
          "execution_count": 30
        }
      ]
    },
    {
      "metadata": {
        "id": "UrzN41F2CT45",
        "colab_type": "code",
        "outputId": "888cd088-077f-4846-82e9-264ee9bb1f64",
        "colab": {
          "base_uri": "https://localhost:8080/",
          "height": 119
        }
      },
      "cell_type": "code",
      "source": [
        "sigmalist= np.zeros((100,6)) #store the average outcomes of omc integral\n",
        "for i in range(5,11):\n",
        "  for j in range(100):\n",
        "    sigmalist[j,i-5]=omc_integral(2**i)\n",
        "\n",
        "sdlist= np.zeros((6,1)) #store the standard deviation\n",
        "for i in range(6):\n",
        "    sdlist[i,0] = np.std(sigmalist[:,i])\n",
        "    \n",
        "print(sdlist)"
      ],
      "execution_count": 31,
      "outputs": [
        {
          "output_type": "stream",
          "text": [
            "[[0.04883194]\n",
            " [0.03449906]\n",
            " [0.02022439]\n",
            " [0.01911119]\n",
            " [0.01388958]\n",
            " [0.00826552]]\n"
          ],
          "name": "stdout"
        }
      ]
    },
    {
      "metadata": {
        "id": "1KdwsIcqcU4b",
        "colab_type": "code",
        "colab": {
          "base_uri": "https://localhost:8080/",
          "height": 347
        },
        "outputId": "e0420dd4-74b3-4c08-cced-a0a68ab2383f"
      },
      "cell_type": "code",
      "source": [
        "x = np.arange(5,11)\n",
        "y = np.zeros(len(x))\n",
        "for i in range(len(sdlist)):\n",
        "    y[i] = -1*(np.log2(sdlist[i,0]))\n",
        "plt.plot(x,y)\n",
        "plt.show()"
      ],
      "execution_count": 32,
      "outputs": [
        {
          "output_type": "display_data",
          "data": {
            "image/png": "[encoded data removed]",
            "text/plain": [
              "<Figure size 576x396 with 1 Axes>"
            ]
          },
          "metadata": {
            "tags": []
          }
        }
      ]
    },
    {
      "metadata": {
        "id": "1r5xS2BicbOl",
        "colab_type": "code",
        "colab": {
          "base_uri": "https://localhost:8080/",
          "height": 34
        },
        "outputId": "04519b33-492d-413e-b616-d9f2072f5993"
      },
      "cell_type": "code",
      "source": [
        "out = ss.linregress(x,y)\n",
        "print('----->>>the convergence order is ' + str(out[0]))"
      ],
      "execution_count": 33,
      "outputs": [
        {
          "output_type": "stream",
          "text": [
            "----->>>the convergence order is 0.48093070797259563\n"
          ],
          "name": "stdout"
        }
      ]
    }
  ]
}