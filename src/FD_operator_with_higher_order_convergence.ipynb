{
  "nbformat": 4,
  "nbformat_minor": 0,
  "metadata": {
    "colab": {
      "name": "FD operator with higher order convergence.ipynb",
      "version": "0.3.2",
      "provenance": [],
      "collapsed_sections": [],
      "include_colab_link": true
    },
    "kernelspec": {
      "name": "python3",
      "display_name": "Python 3"
    }
  },
  "cells": [
    {
      "cell_type": "markdown",
      "metadata": {
        "id": "view-in-github",
        "colab_type": "text"
      },
      "source": [
        "<a href=\"https://colab.research.google.com/github/wuchenyu38/18ma573chenyuwu/blob/master/src/FD_operator_with_higher_order_convergence.ipynb\" target=\"_parent\"><img src=\"https://colab.research.google.com/assets/colab-badge.svg\" alt=\"Open In Colab\"/></a>"
      ]
    },
    {
      "metadata": {
        "id": "dwbTe9dySL1o",
        "colab_type": "text"
      },
      "cell_type": "markdown",
      "source": [
        "Suppose that we wish to approximate the first derivative $u'(x)$ of a very smooth function with an error of only $O(h)^4$, where $h$ is the step size. Which difference approximation could we use?"
      ]
    },
    {
      "metadata": {
        "id": "E4t_lF7YSL90",
        "colab_type": "text"
      },
      "cell_type": "markdown",
      "source": [
        "To estimate a smooth function with smallest truncation error, we should use Central Difference Formula:\n",
        "Choose Central Difference Formula.\n",
        "$$O(h^4)$$\n",
        "We can choose $$x-2h,x-h, x, x+h,x+2h\\in[a,b]$$\n",
        "suppose$$f(x)\\in C^5[a,b]$$\n",
        "First:\n",
        "$$f(x+h)-f(x-h)=2f'(x)h+\\frac{2f^3(x)h^3}{3!}+\\frac{2f^5(x)h^5}{5!}$$\n",
        "Second:\n",
        "$$f(x+2h)-f(x-2h)=4f'(x)h+\\frac{16f^3(x)h^3}{3!}+\\frac{64f^5(x)h^5}{5!}$$\n",
        "\n",
        "\n",
        "By elimilation we get :\n",
        "$$\\frac{-f(x+2h)+8f(x+h)-8f(x-h)+f(x-2h)}{12h}=\\frac{(16f^5(c_1)-64f^5(c_2))h^5}{120}+12f'(x)h$$\n",
        "Since this function is smooth, we can have a c value that satisfied:\n",
        "$$16f^5(c_1)-64f^5(c_2)=-48f^5(c)$$\n",
        "So, we have:\n",
        "$$\\frac{-f(x+2h)+8f(x+h)-8f(x-h)+f(x-2h)}{12h}+\\frac{f^5(c)h^4}{30}+=f'(x)$$\n",
        "Also, for Central Difference Formula:\n",
        "$$f'(x)\\approx\\frac{-f(x+2h)+8f(x+h)-8f(x-h)+f(x-2h)}{12h}$$\n",
        "$$f'(x)=\\frac{-f(x+2h)+8f(x+h)-8f(x-h)+f(x-2h)}{12h}+E_{Truncation}$$\n",
        "So, we have:\n",
        "$$E_{Truncation}=\\frac{f^5(c)h^4}{30}$$\n",
        "which is O(h^4)"
      ]
    }
  ]
}